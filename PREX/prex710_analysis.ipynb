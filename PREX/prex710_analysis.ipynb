{
 "cells": [
  {
   "cell_type": "code",
   "execution_count": 66,
   "metadata": {},
   "outputs": [],
   "source": [
    "import sys\n",
    "import os\n",
    "import warnings\n",
    "import pandas as pd\n",
    "from IPython.display import display\n",
    "import glob\n",
    "from tqdm import tqdm_notebook,trange, tqdm \n",
    "warnings.simplefilter('ignore',DeprecationWarning)\n",
    "# This should be fine if tqdm not updated; it is the tqdm_notebook thats crying\n",
    "\n",
    "#### MY MODULES ####\n",
    "import site\n",
    "site.addsitedir('../modules/') #Looking for the module differently; I know there is something more elegant\n",
    "import mymodules\n",
    "from bead_detection import Bead, Beads, analyze_beads_image #Explicitly calling them out"
   ]
  },
  {
   "cell_type": "code",
   "execution_count": 46,
   "metadata": {},
   "outputs": [],
   "source": [
    "class Test_bead_detection(object):\n",
    "    \"\"\"\n",
    "    A very specific case to test the initial build; Will work on it to incorporate multiple unittests\n",
    "    TODO: A more larger scale test to ensure non NaNs etc in pandas\n",
    "    \"\"\"\n",
    "    def __init__(self):\n",
    "        self.test_image_folder = self.get_image_folder()\n",
    "#         self.test_image_fpath = self.get_image()\n",
    "#         assert (os.path.isfile(os.path.join(self.test_image_fpath)))\n",
    "        self.test_params = self.get_default_params()\n",
    "        self.export_folder_path = self.test_params['export_folder']\n",
    "        #self.imageCount = 0\n",
    "\n",
    "    def get_image_folder(self):\n",
    "        #Hardcoding the folder structure to expect\n",
    "        image_folder = os.path.join(os.getcwd(),'Prex710') \n",
    "        return image_folder\n",
    "    \n",
    "    def get_image(self,image_file):\n",
    "        image_fpath = os.path.join(self.test_image_folder,image_file)\n",
    "        return image_fpath\n",
    "    \n",
    "    def get_default_params(self):\n",
    "        ##################### \n",
    "        ## Default parameters for the Test script  Hardcoded ###\n",
    "        hough_params = dict(dp=1.5,minDist=250,param1=45,param2=45,minRadius=100,maxRadius=700)\n",
    "        preprocessing_params = ('median',5) #Someday going or will need to make it better\n",
    "        save_status = 'both' #save_status = ['data','mask','both','None']\n",
    "        export_folder_path = os.path.join(self.test_image_folder,'test_data_export')\n",
    "        #Ensure that there is no export files/folders in the export directory and start clean \n",
    "        import shutil\n",
    "        if os.path.isdir(export_folder_path): shutil.rmtree(export_folder_path,ignore_errors=True)\n",
    "        # Export folder because it is test; Else should be sent as key:value in params in the argparse or a default\n",
    "        ####################\n",
    "        ## Parameters to be passed\n",
    "        params = dict(hough_params=hough_params, \n",
    "                      preprocessing_params=preprocessing_params, \n",
    "                      save_status=save_status,\n",
    "                      export_folder=export_folder_path)\n",
    "        return params\n",
    "    \n",
    "    def integrated_test(self):\n",
    "        '''A simple test (because I did it so many times) to check\n",
    "        that there are csv and png files in the export folder;\n",
    "        '''\n",
    "        all_png = mymodules.get_fpaths(self.export_folder_path,'.png')\n",
    "        all_csv = mymodules.get_fpaths(self.export_folder_path,'.csv')\n",
    "        return (len(all_png),len(all_csv))\n",
    "    \n",
    "    def test_nd2file(self,f_path):\n",
    "        status, test_data_frame = analyze_beads_image(f_path, **self.test_params)\n",
    "        return True, test_data_frame\n",
    "    \n",
    "    def test_nd2folder(self):\n",
    "        all_test_nd2_fpaths = mymodules.get_fpaths(self.test_image_folder,'nd2')\n",
    "        all_test_nd2_fpaths.sort()\n",
    "        \n",
    "        tqdm_descriptor = \"Processing folder : \"\n",
    "        tqdm_color_blue = '#0D4F8B'\n",
    "        \n",
    "        counter = 0\n",
    "        for counter in tqdm_notebook(range(len(all_test_nd2_fpaths)), \n",
    "                                     desc=tqdm_descriptor, colour=tqdm_color_blue, position=0):\n",
    "            nd2_fpath = all_test_nd2_fpaths[counter]\n",
    "            status, test_dataframe = self.test_nd2file(nd2_fpath) #Just keep shuttling kwargs around\n",
    "            counter+=1\n",
    "        print(\"Completed images in folder : {0}\".format(self.test_image_folder))\n",
    "        return True, self.test_image_folder"
   ]
  },
  {
   "cell_type": "code",
   "execution_count": 47,
   "metadata": {},
   "outputs": [],
   "source": [
    "def run_test(*args,**kwargs):\n",
    "    check_status = False\n",
    "    test = Test_bead_detection()\n",
    "    if args[0] == 'nd2file':\n",
    "        check_status, test_dataframe = test.test_nd2file(test.get_image(args[1]))\n",
    "        file_count_test = test.integrated_test()\n",
    "        if (file_count_test) == (2,1):\n",
    "            check_status = True\n",
    "        else: check_status = False\n",
    "    elif args[0] == 'nd2folder':\n",
    "        check_status, test_image_folder = test.test_nd2folder()\n",
    "        file_count_test = test.integrated_test()\n",
    "        if (file_count_test) == (32,16): # TODO do not hardcode this\n",
    "            check_status = True\n",
    "        else: check_status = False\n",
    "    else:\n",
    "        print(\"INVALID PARAMETER\")\n",
    "        return False\n",
    "    \n",
    "    return check_status"
   ]
  },
  {
   "cell_type": "code",
   "execution_count": 48,
   "metadata": {},
   "outputs": [
    {
     "data": {
      "application/vnd.jupyter.widget-view+json": {
       "model_id": "",
       "version_major": 2,
       "version_minor": 0
      },
      "text/plain": [
       "HBox(children=(HTML(value='Analyzing beads 201015_TGNH2_Prex710_BASE_10X_200ms_flds025.nd2: '), FloatProgress(…"
      ]
     },
     "metadata": {},
     "output_type": "display_data"
    },
    {
     "name": "stdout",
     "output_type": "stream",
     "text": [
      "SUCCESS!! \n"
     ]
    }
   ],
   "source": [
    "test_filename = \"201015_TGNH2_Prex710_BASE_10X_200ms_flds025.nd2\"\n",
    "if run_test('nd2file',test_filename):\n",
    "    print(\"SUCCESS!! \")"
   ]
  },
  {
   "cell_type": "code",
   "execution_count": 49,
   "metadata": {},
   "outputs": [
    {
     "data": {
      "application/vnd.jupyter.widget-view+json": {
       "model_id": "05538df803fa415597201b98ab54f8de",
       "version_major": 2,
       "version_minor": 0
      },
      "text/plain": [
       "HBox(children=(HTML(value='Processing folder : '), FloatProgress(value=0.0, max=16.0), HTML(value='')))"
      ]
     },
     "metadata": {},
     "output_type": "display_data"
    },
    {
     "data": {
      "application/vnd.jupyter.widget-view+json": {
       "model_id": "",
       "version_major": 2,
       "version_minor": 0
      },
      "text/plain": [
       "HBox(children=(HTML(value='Analyzing beads 201015_TGNH2_Prex710_BASE_10X_200ms_flds025.nd2: '), FloatProgress(…"
      ]
     },
     "metadata": {},
     "output_type": "display_data"
    },
    {
     "data": {
      "application/vnd.jupyter.widget-view+json": {
       "model_id": "",
       "version_major": 2,
       "version_minor": 0
      },
      "text/plain": [
       "HBox(children=(HTML(value='Analyzing beads 201015_TGNH2_Prex710_BASE_10X_200ms_flds026.nd2: '), FloatProgress(…"
      ]
     },
     "metadata": {},
     "output_type": "display_data"
    },
    {
     "data": {
      "application/vnd.jupyter.widget-view+json": {
       "model_id": "",
       "version_major": 2,
       "version_minor": 0
      },
      "text/plain": [
       "HBox(children=(HTML(value='Analyzing beads 201015_TGNH2_Prex710_BASE_10X_200ms_flds027.nd2: '), FloatProgress(…"
      ]
     },
     "metadata": {},
     "output_type": "display_data"
    },
    {
     "data": {
      "application/vnd.jupyter.widget-view+json": {
       "model_id": "",
       "version_major": 2,
       "version_minor": 0
      },
      "text/plain": [
       "HBox(children=(HTML(value='Analyzing beads 201015_TGNH2_Prex710_BASE_10X_200ms_flds028.nd2: '), FloatProgress(…"
      ]
     },
     "metadata": {},
     "output_type": "display_data"
    },
    {
     "data": {
      "application/vnd.jupyter.widget-view+json": {
       "model_id": "",
       "version_major": 2,
       "version_minor": 0
      },
      "text/plain": [
       "HBox(children=(HTML(value='Analyzing beads 201015_TGNH2_Prex710_MEOH_10X_200ms_flds019.nd2: '), FloatProgress(…"
      ]
     },
     "metadata": {},
     "output_type": "display_data"
    },
    {
     "data": {
      "application/vnd.jupyter.widget-view+json": {
       "model_id": "",
       "version_major": 2,
       "version_minor": 0
      },
      "text/plain": [
       "HBox(children=(HTML(value='Analyzing beads 201015_TGNH2_Prex710_MEOH_10X_200ms_flds020.nd2: '), FloatProgress(…"
      ]
     },
     "metadata": {},
     "output_type": "display_data"
    },
    {
     "data": {
      "application/vnd.jupyter.widget-view+json": {
       "model_id": "",
       "version_major": 2,
       "version_minor": 0
      },
      "text/plain": [
       "HBox(children=(HTML(value='Analyzing beads 201015_TGNH2_Prex710_MEOH_10X_200ms_flds021.nd2: '), FloatProgress(…"
      ]
     },
     "metadata": {},
     "output_type": "display_data"
    },
    {
     "data": {
      "application/vnd.jupyter.widget-view+json": {
       "model_id": "",
       "version_major": 2,
       "version_minor": 0
      },
      "text/plain": [
       "HBox(children=(HTML(value='Analyzing beads 201015_TGNH2_Prex710_PIP_10X_200ms_flds030.nd2: '), FloatProgress(v…"
      ]
     },
     "metadata": {},
     "output_type": "display_data"
    },
    {
     "data": {
      "application/vnd.jupyter.widget-view+json": {
       "model_id": "",
       "version_major": 2,
       "version_minor": 0
      },
      "text/plain": [
       "HBox(children=(HTML(value='Analyzing beads 201015_TGNH2_Prex710_PIP_10X_200ms_flds031.nd2: '), FloatProgress(v…"
      ]
     },
     "metadata": {},
     "output_type": "display_data"
    },
    {
     "data": {
      "application/vnd.jupyter.widget-view+json": {
       "model_id": "",
       "version_major": 2,
       "version_minor": 0
      },
      "text/plain": [
       "HBox(children=(HTML(value='Analyzing beads 201015_TGNH2_Prex710_PIP_10X_200ms_flds032.nd2: '), FloatProgress(v…"
      ]
     },
     "metadata": {},
     "output_type": "display_data"
    },
    {
     "data": {
      "application/vnd.jupyter.widget-view+json": {
       "model_id": "",
       "version_major": 2,
       "version_minor": 0
      },
      "text/plain": [
       "HBox(children=(HTML(value='Analyzing beads 201015_TGNH2_Prex710_PITC_10X_200ms_flds033.nd2: '), FloatProgress(…"
      ]
     },
     "metadata": {},
     "output_type": "display_data"
    },
    {
     "data": {
      "application/vnd.jupyter.widget-view+json": {
       "model_id": "",
       "version_major": 2,
       "version_minor": 0
      },
      "text/plain": [
       "HBox(children=(HTML(value='Analyzing beads 201015_TGNH2_Prex710_PITC_10X_200ms_flds034.nd2: '), FloatProgress(…"
      ]
     },
     "metadata": {},
     "output_type": "display_data"
    },
    {
     "data": {
      "application/vnd.jupyter.widget-view+json": {
       "model_id": "",
       "version_major": 2,
       "version_minor": 0
      },
      "text/plain": [
       "HBox(children=(HTML(value='Analyzing beads 201015_TGNH2_Prex710_PITC_10X_200ms_flds035.nd2: '), FloatProgress(…"
      ]
     },
     "metadata": {},
     "output_type": "display_data"
    },
    {
     "data": {
      "application/vnd.jupyter.widget-view+json": {
       "model_id": "",
       "version_major": 2,
       "version_minor": 0
      },
      "text/plain": [
       "HBox(children=(HTML(value='Analyzing beads 201015_TGNH2_Prex710_TFA_10X_200ms_flds022.nd2: '), FloatProgress(v…"
      ]
     },
     "metadata": {},
     "output_type": "display_data"
    },
    {
     "data": {
      "application/vnd.jupyter.widget-view+json": {
       "model_id": "",
       "version_major": 2,
       "version_minor": 0
      },
      "text/plain": [
       "HBox(children=(HTML(value='Analyzing beads 201015_TGNH2_Prex710_TFA_10X_200ms_flds023.nd2: '), FloatProgress(v…"
      ]
     },
     "metadata": {},
     "output_type": "display_data"
    },
    {
     "data": {
      "application/vnd.jupyter.widget-view+json": {
       "model_id": "",
       "version_major": 2,
       "version_minor": 0
      },
      "text/plain": [
       "HBox(children=(HTML(value='Analyzing beads 201015_TGNH2_Prex710_TFA_10X_200ms_flds024.nd2: '), FloatProgress(v…"
      ]
     },
     "metadata": {},
     "output_type": "display_data"
    },
    {
     "name": "stdout",
     "output_type": "stream",
     "text": [
      "\n",
      "Completed images in folder : C:\\Users\\hosfo\\Documents\\GitHub\\beadImageAnalysis\\PREX\\Prex710\n",
      "Success\n"
     ]
    }
   ],
   "source": [
    "result = run_test('nd2folder')\n",
    "if(result):\n",
    "    print(\"Success\")"
   ]
  },
  {
   "cell_type": "code",
   "execution_count": 85,
   "metadata": {},
   "outputs": [
    {
     "data": {
      "text/html": [
       "<style  type=\"text/css\" >\n",
       "</style><table id=\"T_160671bc_813d_11eb_89fe_4cedfbc02eab\" ><thead>    <tr>        <th class=\"blank level0\" ></th>        <th class=\"col_heading level0 col0\" >Cy7---oCircle Intensity</th>        <th class=\"col_heading level0 col1\" >Cy7---oCircle Mean Intensity</th>        <th class=\"col_heading level0 col2\" >Cy7---oCircle Median Intensity</th>        <th class=\"col_heading level0 col3\" >Cy7---iCircle Intensity</th>        <th class=\"col_heading level0 col4\" >Cy7---iCircle Mean Intensity</th>        <th class=\"col_heading level0 col5\" >Cy7---iCircle Median Intensity</th>        <th class=\"col_heading level0 col6\" >Cy7---ring Intensity</th>        <th class=\"col_heading level0 col7\" >Cy7---ring Mean Intensity</th>        <th class=\"col_heading level0 col8\" >Cy7---ring Median Intensity</th>    </tr>    <tr>        <th class=\"index_name level0\" >Filename</th>        <th class=\"blank\" ></th>        <th class=\"blank\" ></th>        <th class=\"blank\" ></th>        <th class=\"blank\" ></th>        <th class=\"blank\" ></th>        <th class=\"blank\" ></th>        <th class=\"blank\" ></th>        <th class=\"blank\" ></th>        <th class=\"blank\" ></th>    </tr></thead><tbody>\n",
       "                <tr>\n",
       "                        <th id=\"T_160671bc_813d_11eb_89fe_4cedfbc02eablevel0_row0\" class=\"row_heading level0 row0\" >201015_TGNH2_Prex710_BASE_10X_200ms_flds025.nd2</th>\n",
       "                        <td id=\"T_160671bc_813d_11eb_89fe_4cedfbc02eabrow0_col0\" class=\"data row0 col0\" >297572069.400000</td>\n",
       "                        <td id=\"T_160671bc_813d_11eb_89fe_4cedfbc02eabrow0_col1\" class=\"data row0 col1\" >5341.055949</td>\n",
       "                        <td id=\"T_160671bc_813d_11eb_89fe_4cedfbc02eabrow0_col2\" class=\"data row0 col2\" >5111.600000</td>\n",
       "                        <td id=\"T_160671bc_813d_11eb_89fe_4cedfbc02eabrow0_col3\" class=\"data row0 col3\" >452819930.600000</td>\n",
       "                        <td id=\"T_160671bc_813d_11eb_89fe_4cedfbc02eabrow0_col4\" class=\"data row0 col4\" >17055.200515</td>\n",
       "                        <td id=\"T_160671bc_813d_11eb_89fe_4cedfbc02eabrow0_col5\" class=\"data row0 col5\" >17643.300000</td>\n",
       "                        <td id=\"T_160671bc_813d_11eb_89fe_4cedfbc02eabrow0_col6\" class=\"data row0 col6\" >204695814.400000</td>\n",
       "                        <td id=\"T_160671bc_813d_11eb_89fe_4cedfbc02eabrow0_col7\" class=\"data row0 col7\" >7573.577453</td>\n",
       "                        <td id=\"T_160671bc_813d_11eb_89fe_4cedfbc02eabrow0_col8\" class=\"data row0 col8\" >8048.300000</td>\n",
       "            </tr>\n",
       "            <tr>\n",
       "                        <th id=\"T_160671bc_813d_11eb_89fe_4cedfbc02eablevel0_row1\" class=\"row_heading level0 row1\" >201015_TGNH2_Prex710_BASE_10X_200ms_flds026.nd2</th>\n",
       "                        <td id=\"T_160671bc_813d_11eb_89fe_4cedfbc02eabrow1_col0\" class=\"data row1 col0\" >138286791.750000</td>\n",
       "                        <td id=\"T_160671bc_813d_11eb_89fe_4cedfbc02eabrow1_col1\" class=\"data row1 col1\" >2324.122998</td>\n",
       "                        <td id=\"T_160671bc_813d_11eb_89fe_4cedfbc02eabrow1_col2\" class=\"data row1 col2\" >2195.500000</td>\n",
       "                        <td id=\"T_160671bc_813d_11eb_89fe_4cedfbc02eabrow1_col3\" class=\"data row1 col3\" >346079673.250000</td>\n",
       "                        <td id=\"T_160671bc_813d_11eb_89fe_4cedfbc02eabrow1_col4\" class=\"data row1 col4\" >12086.336604</td>\n",
       "                        <td id=\"T_160671bc_813d_11eb_89fe_4cedfbc02eabrow1_col5\" class=\"data row1 col5\" >12525.875000</td>\n",
       "                        <td id=\"T_160671bc_813d_11eb_89fe_4cedfbc02eabrow1_col6\" class=\"data row1 col6\" >86501465.500000</td>\n",
       "                        <td id=\"T_160671bc_813d_11eb_89fe_4cedfbc02eabrow1_col7\" class=\"data row1 col7\" >3066.265278</td>\n",
       "                        <td id=\"T_160671bc_813d_11eb_89fe_4cedfbc02eabrow1_col8\" class=\"data row1 col8\" >3221.000000</td>\n",
       "            </tr>\n",
       "            <tr>\n",
       "                        <th id=\"T_160671bc_813d_11eb_89fe_4cedfbc02eablevel0_row2\" class=\"row_heading level0 row2\" >201015_TGNH2_Prex710_BASE_10X_200ms_flds027.nd2</th>\n",
       "                        <td id=\"T_160671bc_813d_11eb_89fe_4cedfbc02eabrow2_col0\" class=\"data row2 col0\" >244757766.066667</td>\n",
       "                        <td id=\"T_160671bc_813d_11eb_89fe_4cedfbc02eabrow2_col1\" class=\"data row2 col1\" >4095.600283</td>\n",
       "                        <td id=\"T_160671bc_813d_11eb_89fe_4cedfbc02eabrow2_col2\" class=\"data row2 col2\" >3853.266667</td>\n",
       "                        <td id=\"T_160671bc_813d_11eb_89fe_4cedfbc02eabrow2_col3\" class=\"data row2 col3\" >411696651.200000</td>\n",
       "                        <td id=\"T_160671bc_813d_11eb_89fe_4cedfbc02eabrow2_col4\" class=\"data row2 col4\" >14371.631560</td>\n",
       "                        <td id=\"T_160671bc_813d_11eb_89fe_4cedfbc02eabrow2_col5\" class=\"data row2 col5\" >14828.800000</td>\n",
       "                        <td id=\"T_160671bc_813d_11eb_89fe_4cedfbc02eabrow2_col6\" class=\"data row2 col6\" >157844023.733333</td>\n",
       "                        <td id=\"T_160671bc_813d_11eb_89fe_4cedfbc02eabrow2_col7\" class=\"data row2 col7\" >5439.597906</td>\n",
       "                        <td id=\"T_160671bc_813d_11eb_89fe_4cedfbc02eabrow2_col8\" class=\"data row2 col8\" >5371.900000</td>\n",
       "            </tr>\n",
       "            <tr>\n",
       "                        <th id=\"T_160671bc_813d_11eb_89fe_4cedfbc02eablevel0_row3\" class=\"row_heading level0 row3\" >201015_TGNH2_Prex710_BASE_10X_200ms_flds028.nd2</th>\n",
       "                        <td id=\"T_160671bc_813d_11eb_89fe_4cedfbc02eabrow3_col0\" class=\"data row3 col0\" >258438982.466667</td>\n",
       "                        <td id=\"T_160671bc_813d_11eb_89fe_4cedfbc02eabrow3_col1\" class=\"data row3 col1\" >4437.250927</td>\n",
       "                        <td id=\"T_160671bc_813d_11eb_89fe_4cedfbc02eabrow3_col2\" class=\"data row3 col2\" >4234.133333</td>\n",
       "                        <td id=\"T_160671bc_813d_11eb_89fe_4cedfbc02eabrow3_col3\" class=\"data row3 col3\" >321865404.733333</td>\n",
       "                        <td id=\"T_160671bc_813d_11eb_89fe_4cedfbc02eabrow3_col4\" class=\"data row3 col4\" >11549.322990</td>\n",
       "                        <td id=\"T_160671bc_813d_11eb_89fe_4cedfbc02eabrow3_col5\" class=\"data row3 col5\" >12130.533333</td>\n",
       "                        <td id=\"T_160671bc_813d_11eb_89fe_4cedfbc02eabrow3_col6\" class=\"data row3 col6\" >178899138.533333</td>\n",
       "                        <td id=\"T_160671bc_813d_11eb_89fe_4cedfbc02eabrow3_col7\" class=\"data row3 col7\" >6482.683823</td>\n",
       "                        <td id=\"T_160671bc_813d_11eb_89fe_4cedfbc02eabrow3_col8\" class=\"data row3 col8\" >6230.833333</td>\n",
       "            </tr>\n",
       "            <tr>\n",
       "                        <th id=\"T_160671bc_813d_11eb_89fe_4cedfbc02eablevel0_row4\" class=\"row_heading level0 row4\" >201015_TGNH2_Prex710_MEOH_10X_200ms_flds019.nd2</th>\n",
       "                        <td id=\"T_160671bc_813d_11eb_89fe_4cedfbc02eabrow4_col0\" class=\"data row4 col0\" >192270791.565217</td>\n",
       "                        <td id=\"T_160671bc_813d_11eb_89fe_4cedfbc02eabrow4_col1\" class=\"data row4 col1\" >3510.829019</td>\n",
       "                        <td id=\"T_160671bc_813d_11eb_89fe_4cedfbc02eabrow4_col2\" class=\"data row4 col2\" >3348.804348</td>\n",
       "                        <td id=\"T_160671bc_813d_11eb_89fe_4cedfbc02eabrow4_col3\" class=\"data row4 col3\" >387150053.130435</td>\n",
       "                        <td id=\"T_160671bc_813d_11eb_89fe_4cedfbc02eabrow4_col4\" class=\"data row4 col4\" >15591.827956</td>\n",
       "                        <td id=\"T_160671bc_813d_11eb_89fe_4cedfbc02eabrow4_col5\" class=\"data row4 col5\" >16080.956522</td>\n",
       "                        <td id=\"T_160671bc_813d_11eb_89fe_4cedfbc02eabrow4_col6\" class=\"data row4 col6\" >127660512.217391</td>\n",
       "                        <td id=\"T_160671bc_813d_11eb_89fe_4cedfbc02eabrow4_col7\" class=\"data row4 col7\" >4966.415884</td>\n",
       "                        <td id=\"T_160671bc_813d_11eb_89fe_4cedfbc02eabrow4_col8\" class=\"data row4 col8\" >5057.760870</td>\n",
       "            </tr>\n",
       "            <tr>\n",
       "                        <th id=\"T_160671bc_813d_11eb_89fe_4cedfbc02eablevel0_row5\" class=\"row_heading level0 row5\" >201015_TGNH2_Prex710_MEOH_10X_200ms_flds020.nd2</th>\n",
       "                        <td id=\"T_160671bc_813d_11eb_89fe_4cedfbc02eabrow5_col0\" class=\"data row5 col0\" >248376929.437500</td>\n",
       "                        <td id=\"T_160671bc_813d_11eb_89fe_4cedfbc02eabrow5_col1\" class=\"data row5 col1\" >4249.847852</td>\n",
       "                        <td id=\"T_160671bc_813d_11eb_89fe_4cedfbc02eabrow5_col2\" class=\"data row5 col2\" >4067.937500</td>\n",
       "                        <td id=\"T_160671bc_813d_11eb_89fe_4cedfbc02eabrow5_col3\" class=\"data row5 col3\" >375266625.250000</td>\n",
       "                        <td id=\"T_160671bc_813d_11eb_89fe_4cedfbc02eabrow5_col4\" class=\"data row5 col4\" >13339.061092</td>\n",
       "                        <td id=\"T_160671bc_813d_11eb_89fe_4cedfbc02eabrow5_col5\" class=\"data row5 col5\" >14163.500000</td>\n",
       "                        <td id=\"T_160671bc_813d_11eb_89fe_4cedfbc02eabrow5_col6\" class=\"data row5 col6\" >168655183.187500</td>\n",
       "                        <td id=\"T_160671bc_813d_11eb_89fe_4cedfbc02eabrow5_col7\" class=\"data row5 col7\" >5867.907116</td>\n",
       "                        <td id=\"T_160671bc_813d_11eb_89fe_4cedfbc02eabrow5_col8\" class=\"data row5 col8\" >6046.312500</td>\n",
       "            </tr>\n",
       "            <tr>\n",
       "                        <th id=\"T_160671bc_813d_11eb_89fe_4cedfbc02eablevel0_row6\" class=\"row_heading level0 row6\" >201015_TGNH2_Prex710_MEOH_10X_200ms_flds021.nd2</th>\n",
       "                        <td id=\"T_160671bc_813d_11eb_89fe_4cedfbc02eabrow6_col0\" class=\"data row6 col0\" >195602388.764706</td>\n",
       "                        <td id=\"T_160671bc_813d_11eb_89fe_4cedfbc02eabrow6_col1\" class=\"data row6 col1\" >3786.454109</td>\n",
       "                        <td id=\"T_160671bc_813d_11eb_89fe_4cedfbc02eabrow6_col2\" class=\"data row6 col2\" >3621.000000</td>\n",
       "                        <td id=\"T_160671bc_813d_11eb_89fe_4cedfbc02eabrow6_col3\" class=\"data row6 col3\" >344109565.529412</td>\n",
       "                        <td id=\"T_160671bc_813d_11eb_89fe_4cedfbc02eabrow6_col4\" class=\"data row6 col4\" >13640.006235</td>\n",
       "                        <td id=\"T_160671bc_813d_11eb_89fe_4cedfbc02eabrow6_col5\" class=\"data row6 col5\" >14382.264706</td>\n",
       "                        <td id=\"T_160671bc_813d_11eb_89fe_4cedfbc02eabrow6_col6\" class=\"data row6 col6\" >132830863.647059</td>\n",
       "                        <td id=\"T_160671bc_813d_11eb_89fe_4cedfbc02eabrow6_col7\" class=\"data row6 col7\" >5035.182939</td>\n",
       "                        <td id=\"T_160671bc_813d_11eb_89fe_4cedfbc02eabrow6_col8\" class=\"data row6 col8\" >5190.323529</td>\n",
       "            </tr>\n",
       "            <tr>\n",
       "                        <th id=\"T_160671bc_813d_11eb_89fe_4cedfbc02eablevel0_row7\" class=\"row_heading level0 row7\" >201015_TGNH2_Prex710_PIP_10X_200ms_flds030.nd2</th>\n",
       "                        <td id=\"T_160671bc_813d_11eb_89fe_4cedfbc02eabrow7_col0\" class=\"data row7 col0\" >332188518.333333</td>\n",
       "                        <td id=\"T_160671bc_813d_11eb_89fe_4cedfbc02eabrow7_col1\" class=\"data row7 col1\" >5476.850925</td>\n",
       "                        <td id=\"T_160671bc_813d_11eb_89fe_4cedfbc02eabrow7_col2\" class=\"data row7 col2\" >5194.888889</td>\n",
       "                        <td id=\"T_160671bc_813d_11eb_89fe_4cedfbc02eabrow7_col3\" class=\"data row7 col3\" >385535697.000000</td>\n",
       "                        <td id=\"T_160671bc_813d_11eb_89fe_4cedfbc02eabrow7_col4\" class=\"data row7 col4\" >13195.337768</td>\n",
       "                        <td id=\"T_160671bc_813d_11eb_89fe_4cedfbc02eabrow7_col5\" class=\"data row7 col5\" >14130.888889</td>\n",
       "                        <td id=\"T_160671bc_813d_11eb_89fe_4cedfbc02eabrow7_col6\" class=\"data row7 col6\" >210198430.777778</td>\n",
       "                        <td id=\"T_160671bc_813d_11eb_89fe_4cedfbc02eabrow7_col7\" class=\"data row7 col7\" >7144.238497</td>\n",
       "                        <td id=\"T_160671bc_813d_11eb_89fe_4cedfbc02eabrow7_col8\" class=\"data row7 col8\" >8032.055556</td>\n",
       "            </tr>\n",
       "            <tr>\n",
       "                        <th id=\"T_160671bc_813d_11eb_89fe_4cedfbc02eablevel0_row8\" class=\"row_heading level0 row8\" >201015_TGNH2_Prex710_PIP_10X_200ms_flds031.nd2</th>\n",
       "                        <td id=\"T_160671bc_813d_11eb_89fe_4cedfbc02eabrow8_col0\" class=\"data row8 col0\" >188839922.428571</td>\n",
       "                        <td id=\"T_160671bc_813d_11eb_89fe_4cedfbc02eabrow8_col1\" class=\"data row8 col1\" >3435.931571</td>\n",
       "                        <td id=\"T_160671bc_813d_11eb_89fe_4cedfbc02eabrow8_col2\" class=\"data row8 col2\" >3278.285714</td>\n",
       "                        <td id=\"T_160671bc_813d_11eb_89fe_4cedfbc02eabrow8_col3\" class=\"data row8 col3\" >459217313.142857</td>\n",
       "                        <td id=\"T_160671bc_813d_11eb_89fe_4cedfbc02eabrow8_col4\" class=\"data row8 col4\" >16581.938828</td>\n",
       "                        <td id=\"T_160671bc_813d_11eb_89fe_4cedfbc02eabrow8_col5\" class=\"data row8 col5\" >17733.214286</td>\n",
       "                        <td id=\"T_160671bc_813d_11eb_89fe_4cedfbc02eabrow8_col6\" class=\"data row8 col6\" >131199474.857143</td>\n",
       "                        <td id=\"T_160671bc_813d_11eb_89fe_4cedfbc02eabrow8_col7\" class=\"data row8 col7\" >4675.363157</td>\n",
       "                        <td id=\"T_160671bc_813d_11eb_89fe_4cedfbc02eabrow8_col8\" class=\"data row8 col8\" >4952.642857</td>\n",
       "            </tr>\n",
       "            <tr>\n",
       "                        <th id=\"T_160671bc_813d_11eb_89fe_4cedfbc02eablevel0_row9\" class=\"row_heading level0 row9\" >201015_TGNH2_Prex710_PIP_10X_200ms_flds032.nd2</th>\n",
       "                        <td id=\"T_160671bc_813d_11eb_89fe_4cedfbc02eabrow9_col0\" class=\"data row9 col0\" >282667340.777778</td>\n",
       "                        <td id=\"T_160671bc_813d_11eb_89fe_4cedfbc02eabrow9_col1\" class=\"data row9 col1\" >4732.184108</td>\n",
       "                        <td id=\"T_160671bc_813d_11eb_89fe_4cedfbc02eabrow9_col2\" class=\"data row9 col2\" >4526.111111</td>\n",
       "                        <td id=\"T_160671bc_813d_11eb_89fe_4cedfbc02eabrow9_col3\" class=\"data row9 col3\" >399719640.000000</td>\n",
       "                        <td id=\"T_160671bc_813d_11eb_89fe_4cedfbc02eabrow9_col4\" class=\"data row9 col4\" >14168.156922</td>\n",
       "                        <td id=\"T_160671bc_813d_11eb_89fe_4cedfbc02eabrow9_col5\" class=\"data row9 col5\" >15147.166667</td>\n",
       "                        <td id=\"T_160671bc_813d_11eb_89fe_4cedfbc02eabrow9_col6\" class=\"data row9 col6\" >177517340.444444</td>\n",
       "                        <td id=\"T_160671bc_813d_11eb_89fe_4cedfbc02eabrow9_col7\" class=\"data row9 col7\" >6099.726714</td>\n",
       "                        <td id=\"T_160671bc_813d_11eb_89fe_4cedfbc02eabrow9_col8\" class=\"data row9 col8\" >6841.500000</td>\n",
       "            </tr>\n",
       "            <tr>\n",
       "                        <th id=\"T_160671bc_813d_11eb_89fe_4cedfbc02eablevel0_row10\" class=\"row_heading level0 row10\" >201015_TGNH2_Prex710_PITC_10X_200ms_flds033.nd2</th>\n",
       "                        <td id=\"T_160671bc_813d_11eb_89fe_4cedfbc02eabrow10_col0\" class=\"data row10 col0\" >238531941.740741</td>\n",
       "                        <td id=\"T_160671bc_813d_11eb_89fe_4cedfbc02eabrow10_col1\" class=\"data row10 col1\" >4723.921582</td>\n",
       "                        <td id=\"T_160671bc_813d_11eb_89fe_4cedfbc02eabrow10_col2\" class=\"data row10 col2\" >4513.851852</td>\n",
       "                        <td id=\"T_160671bc_813d_11eb_89fe_4cedfbc02eabrow10_col3\" class=\"data row10 col3\" >470720097.629630</td>\n",
       "                        <td id=\"T_160671bc_813d_11eb_89fe_4cedfbc02eabrow10_col4\" class=\"data row10 col4\" >18380.725919</td>\n",
       "                        <td id=\"T_160671bc_813d_11eb_89fe_4cedfbc02eabrow10_col5\" class=\"data row10 col5\" >17056.888889</td>\n",
       "                        <td id=\"T_160671bc_813d_11eb_89fe_4cedfbc02eabrow10_col6\" class=\"data row10 col6\" >172785574.185185</td>\n",
       "                        <td id=\"T_160671bc_813d_11eb_89fe_4cedfbc02eabrow10_col7\" class=\"data row10 col7\" >6527.127987</td>\n",
       "                        <td id=\"T_160671bc_813d_11eb_89fe_4cedfbc02eabrow10_col8\" class=\"data row10 col8\" >6824.851852</td>\n",
       "            </tr>\n",
       "            <tr>\n",
       "                        <th id=\"T_160671bc_813d_11eb_89fe_4cedfbc02eablevel0_row11\" class=\"row_heading level0 row11\" >201015_TGNH2_Prex710_PITC_10X_200ms_flds034.nd2</th>\n",
       "                        <td id=\"T_160671bc_813d_11eb_89fe_4cedfbc02eabrow11_col0\" class=\"data row11 col0\" >190832361.047619</td>\n",
       "                        <td id=\"T_160671bc_813d_11eb_89fe_4cedfbc02eabrow11_col1\" class=\"data row11 col1\" >3782.935631</td>\n",
       "                        <td id=\"T_160671bc_813d_11eb_89fe_4cedfbc02eabrow11_col2\" class=\"data row11 col2\" >3596.142857</td>\n",
       "                        <td id=\"T_160671bc_813d_11eb_89fe_4cedfbc02eabrow11_col3\" class=\"data row11 col3\" >311541425.428571</td>\n",
       "                        <td id=\"T_160671bc_813d_11eb_89fe_4cedfbc02eabrow11_col4\" class=\"data row11 col4\" >12157.504182</td>\n",
       "                        <td id=\"T_160671bc_813d_11eb_89fe_4cedfbc02eabrow11_col5\" class=\"data row11 col5\" >12422.952381</td>\n",
       "                        <td id=\"T_160671bc_813d_11eb_89fe_4cedfbc02eabrow11_col6\" class=\"data row11 col6\" >131071159.047619</td>\n",
       "                        <td id=\"T_160671bc_813d_11eb_89fe_4cedfbc02eabrow11_col7\" class=\"data row11 col7\" >5020.315009</td>\n",
       "                        <td id=\"T_160671bc_813d_11eb_89fe_4cedfbc02eabrow11_col8\" class=\"data row11 col8\" >5124.619048</td>\n",
       "            </tr>\n",
       "            <tr>\n",
       "                        <th id=\"T_160671bc_813d_11eb_89fe_4cedfbc02eablevel0_row12\" class=\"row_heading level0 row12\" >201015_TGNH2_Prex710_PITC_10X_200ms_flds035.nd2</th>\n",
       "                        <td id=\"T_160671bc_813d_11eb_89fe_4cedfbc02eabrow12_col0\" class=\"data row12 col0\" >218401130.888889</td>\n",
       "                        <td id=\"T_160671bc_813d_11eb_89fe_4cedfbc02eabrow12_col1\" class=\"data row12 col1\" >3840.018185</td>\n",
       "                        <td id=\"T_160671bc_813d_11eb_89fe_4cedfbc02eabrow12_col2\" class=\"data row12 col2\" >3674.722222</td>\n",
       "                        <td id=\"T_160671bc_813d_11eb_89fe_4cedfbc02eabrow12_col3\" class=\"data row12 col3\" >485042711.222222</td>\n",
       "                        <td id=\"T_160671bc_813d_11eb_89fe_4cedfbc02eabrow12_col4\" class=\"data row12 col4\" >18280.641389</td>\n",
       "                        <td id=\"T_160671bc_813d_11eb_89fe_4cedfbc02eabrow12_col5\" class=\"data row12 col5\" >18209.472222</td>\n",
       "                        <td id=\"T_160671bc_813d_11eb_89fe_4cedfbc02eabrow12_col6\" class=\"data row12 col6\" >144944536.055556</td>\n",
       "                        <td id=\"T_160671bc_813d_11eb_89fe_4cedfbc02eabrow12_col7\" class=\"data row12 col7\" >5155.450652</td>\n",
       "                        <td id=\"T_160671bc_813d_11eb_89fe_4cedfbc02eabrow12_col8\" class=\"data row12 col8\" >5412.805556</td>\n",
       "            </tr>\n",
       "            <tr>\n",
       "                        <th id=\"T_160671bc_813d_11eb_89fe_4cedfbc02eablevel0_row13\" class=\"row_heading level0 row13\" >201015_TGNH2_Prex710_TFA_10X_200ms_flds022.nd2</th>\n",
       "                        <td id=\"T_160671bc_813d_11eb_89fe_4cedfbc02eabrow13_col0\" class=\"data row13 col0\" >202204447.000000</td>\n",
       "                        <td id=\"T_160671bc_813d_11eb_89fe_4cedfbc02eabrow13_col1\" class=\"data row13 col1\" >4092.831971</td>\n",
       "                        <td id=\"T_160671bc_813d_11eb_89fe_4cedfbc02eabrow13_col2\" class=\"data row13 col2\" >3914.320000</td>\n",
       "                        <td id=\"T_160671bc_813d_11eb_89fe_4cedfbc02eabrow13_col3\" class=\"data row13 col3\" >472591366.160000</td>\n",
       "                        <td id=\"T_160671bc_813d_11eb_89fe_4cedfbc02eabrow13_col4\" class=\"data row13 col4\" >18826.283977</td>\n",
       "                        <td id=\"T_160671bc_813d_11eb_89fe_4cedfbc02eabrow13_col5\" class=\"data row13 col5\" >19476.920000</td>\n",
       "                        <td id=\"T_160671bc_813d_11eb_89fe_4cedfbc02eabrow13_col6\" class=\"data row13 col6\" >146236730.760000</td>\n",
       "                        <td id=\"T_160671bc_813d_11eb_89fe_4cedfbc02eabrow13_col7\" class=\"data row13 col7\" >5833.694656</td>\n",
       "                        <td id=\"T_160671bc_813d_11eb_89fe_4cedfbc02eabrow13_col8\" class=\"data row13 col8\" >5974.380000</td>\n",
       "            </tr>\n",
       "            <tr>\n",
       "                        <th id=\"T_160671bc_813d_11eb_89fe_4cedfbc02eablevel0_row14\" class=\"row_heading level0 row14\" >201015_TGNH2_Prex710_TFA_10X_200ms_flds023.nd2</th>\n",
       "                        <td id=\"T_160671bc_813d_11eb_89fe_4cedfbc02eabrow14_col0\" class=\"data row14 col0\" >257368375.000000</td>\n",
       "                        <td id=\"T_160671bc_813d_11eb_89fe_4cedfbc02eabrow14_col1\" class=\"data row14 col1\" >4568.474253</td>\n",
       "                        <td id=\"T_160671bc_813d_11eb_89fe_4cedfbc02eabrow14_col2\" class=\"data row14 col2\" >4218.409091</td>\n",
       "                        <td id=\"T_160671bc_813d_11eb_89fe_4cedfbc02eabrow14_col3\" class=\"data row14 col3\" >423415740.000000</td>\n",
       "                        <td id=\"T_160671bc_813d_11eb_89fe_4cedfbc02eabrow14_col4\" class=\"data row14 col4\" >15958.593294</td>\n",
       "                        <td id=\"T_160671bc_813d_11eb_89fe_4cedfbc02eabrow14_col5\" class=\"data row14 col5\" >16728.431818</td>\n",
       "                        <td id=\"T_160671bc_813d_11eb_89fe_4cedfbc02eabrow14_col6\" class=\"data row14 col6\" >186294394.227273</td>\n",
       "                        <td id=\"T_160671bc_813d_11eb_89fe_4cedfbc02eabrow14_col7\" class=\"data row14 col7\" >6693.126255</td>\n",
       "                        <td id=\"T_160671bc_813d_11eb_89fe_4cedfbc02eabrow14_col8\" class=\"data row14 col8\" >6737.522727</td>\n",
       "            </tr>\n",
       "            <tr>\n",
       "                        <th id=\"T_160671bc_813d_11eb_89fe_4cedfbc02eablevel0_row15\" class=\"row_heading level0 row15\" >201015_TGNH2_Prex710_TFA_10X_200ms_flds024.nd2</th>\n",
       "                        <td id=\"T_160671bc_813d_11eb_89fe_4cedfbc02eabrow15_col0\" class=\"data row15 col0\" >222883941.913043</td>\n",
       "                        <td id=\"T_160671bc_813d_11eb_89fe_4cedfbc02eabrow15_col1\" class=\"data row15 col1\" >4039.965340</td>\n",
       "                        <td id=\"T_160671bc_813d_11eb_89fe_4cedfbc02eabrow15_col2\" class=\"data row15 col2\" >3890.826087</td>\n",
       "                        <td id=\"T_160671bc_813d_11eb_89fe_4cedfbc02eabrow15_col3\" class=\"data row15 col3\" >383787278.608696</td>\n",
       "                        <td id=\"T_160671bc_813d_11eb_89fe_4cedfbc02eabrow15_col4\" class=\"data row15 col4\" >14111.242569</td>\n",
       "                        <td id=\"T_160671bc_813d_11eb_89fe_4cedfbc02eabrow15_col5\" class=\"data row15 col5\" >14692.826087</td>\n",
       "                        <td id=\"T_160671bc_813d_11eb_89fe_4cedfbc02eabrow15_col6\" class=\"data row15 col6\" >163497331.217391</td>\n",
       "                        <td id=\"T_160671bc_813d_11eb_89fe_4cedfbc02eabrow15_col7\" class=\"data row15 col7\" >5869.827748</td>\n",
       "                        <td id=\"T_160671bc_813d_11eb_89fe_4cedfbc02eabrow15_col8\" class=\"data row15 col8\" >5909.826087</td>\n",
       "            </tr>\n",
       "    </tbody></table>"
      ],
      "text/plain": [
       "<pandas.io.formats.style.Styler at 0x1e9429d2370>"
      ]
     },
     "metadata": {},
     "output_type": "display_data"
    }
   ],
   "source": [
    "# Combine all resulting CSV files into a single dataframe\n",
    "# TODO - can probably do this during the analysis\n",
    "\n",
    "def compile_results(pathname):\n",
    "    results_folder_path = os.path.join(os.path.join(os.path.join(os.getcwd(),pathname),'test_data_export'),'data_frame_export')\n",
    "    all_files = glob.glob(results_folder_path + '/*.csv')\n",
    "    \n",
    "    li = []\n",
    "    for filename in all_files:\n",
    "        df = pd.read_csv(filename, index_col = None, header=0)\n",
    "        li.append(df)\n",
    "    results_frame = pd.concat(li, axis=0, ignore_index=True)\n",
    "    \n",
    "    \n",
    "    simp_results_frame = results_frame[['Filename','Cy7---oCircle Intensity','Cy7---oCircle Mean Intensity','Cy7---oCircle Median Intensity','Cy7---iCircle Intensity','Cy7---iCircle Mean Intensity','Cy7---iCircle Median Intensity','Cy7---ring Intensity','Cy7---ring Mean Intensity','Cy7---ring Median Intensity']]\n",
    "    grouped_results = simp_results_frame.groupby(results_frame.Filename).mean()\n",
    "    \n",
    "    display(grouped_results.style)\n",
    "    \n",
    "    output_path = os.path.join(results_folder_path,\"grouped_output.csv\")\n",
    "    grouped_results.to_csv(output_path)\n",
    "    \n",
    "compile_results(\"PREX710\")"
   ]
  },
  {
   "cell_type": "code",
   "execution_count": null,
   "metadata": {},
   "outputs": [],
   "source": []
  }
 ],
 "metadata": {
  "kernelspec": {
   "display_name": "ErisyonEnv",
   "language": "python",
   "name": "erisyonenv"
  },
  "language_info": {
   "codemirror_mode": {
    "name": "ipython",
    "version": 3
   },
   "file_extension": ".py",
   "mimetype": "text/x-python",
   "name": "python",
   "nbconvert_exporter": "python",
   "pygments_lexer": "ipython3",
   "version": "3.8.5"
  }
 },
 "nbformat": 4,
 "nbformat_minor": 4
}
