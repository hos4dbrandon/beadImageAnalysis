{
 "cells": [
  {
   "cell_type": "code",
   "execution_count": 1,
   "metadata": {},
   "outputs": [],
   "source": [
    "# Modules for bead image analysis"
   ]
  },
  {
   "cell_type": "code",
   "execution_count": 2,
   "metadata": {},
   "outputs": [
    {
     "name": "stdout",
     "output_type": "stream",
     "text": [
      "nd2 reader version: 3.2.3\n"
     ]
    },
    {
     "name": "stderr",
     "output_type": "stream",
     "text": [
      "/home2/software_projects/beadAnalysis/env/venv_beads/lib/python3.8/site-packages/pims/image_reader.py:26: RuntimeWarning: PIMS image_reader.py could not find scikit-image. Falling back to matplotlib's imread(), which uses floats instead of integers. This may break your scripts. \n",
      "(To ignore this warning, include the line \"warnings.simplefilter(\"ignore\", RuntimeWarning)\" in your script.)\n",
      "  warnings.warn(RuntimeWarning(ski_preferred))\n"
     ]
    }
   ],
   "source": [
    "import numpy as np\n",
    "from PIL import Image\n",
    "from matplotlib import pyplot as plt\n",
    "%matplotlib inline\n",
    "#from tqdm import tqdm\n",
    "import os\n",
    "import sys\n",
    "import cv2\n",
    "import csv\n",
    "import nd2reader as nd2; print(\"nd2 reader version: {0}\".format(nd2.__version__))\n",
    "from statistics import mean, median, stdev\n",
    "import pandas as pd\n",
    "#warnings.simplefilter(\"ignore\", RuntimeWarning)"
   ]
  },
  {
   "cell_type": "code",
   "execution_count": 3,
   "metadata": {},
   "outputs": [],
   "source": [
    "class ImageStack(object):\n",
    "    \"\"\"Analysis of beads (from individual nd2 files) to extract all relevant information\n",
    "        NOTE: The file form of the nd2 file must be only channels and no frames/time/zstacks etc; \n",
    "        TODO: A different nd2 stack will mess up the processing and analysis and will need reprocessiong\n",
    "    \"\"\"\n",
    "    \n",
    "    def __init__(self,bead_nd2_fpath,mono_channel=0):\n",
    "        self.bead_nd2_fpath = bead_nd2_fpath\n",
    "        self.metadata, self.nd2image = self.metadata()\n",
    "        self.check_nd2_file_form()\n",
    "      \n",
    "    def check_nd2_file_form(self):\n",
    "        assert (len(self.metadata['fields_of_view']) == 1 and len(self.metadata['frames']) == 1),\"Metadata {0}\".format(self.metadata)\n",
    "        assert ((len(self.metadata['channels']))>1), \"Not enough channels in this image stack\"\n",
    "        return True\n",
    "    \n",
    "    def metadata(self):\n",
    "        nd2image = nd2.ND2Reader(self.bead_nd2_fpath)\n",
    "        metadata = nd2image.metadata\n",
    "        return metadata, nd2image\n",
    "    \n",
    "    def get_mono_image(self):\n",
    "        return self.nd2image.get_frame(0)\n",
    "    \n",
    "    def channels(self):\n",
    "        return self.metadata['channels']\n",
    "    \n",
    "    def frames(self):\n",
    "        return self.metadata['frames']\n",
    "   \n",
    "    def fname(self):\n",
    "        return(os.path.split(self.bead_nd2_fpath)[1])\n"
   ]
  },
  {
   "cell_type": "code",
   "execution_count": 4,
   "metadata": {},
   "outputs": [
    {
     "name": "stderr",
     "output_type": "stream",
     "text": [
      "/home2/software_projects/beadAnalysis/env/venv_beads/lib/python3.8/site-packages/nd2reader/raw_metadata.py:171: UserWarning: Z-levels details missing in metadata. Using Z-coordinates instead.\n",
      "  warnings.warn(\"Z-levels details missing in metadata. Using Z-coordinates instead.\")\n"
     ]
    }
   ],
   "source": [
    "test_tentagel_folder = \"/home2/software_projects/beadAnalysis/temp/test_images/2020_10_15/Tentagel_DyeScreen_expt/Atto495\"\n",
    "test_nd2_fname = '201015_TGNH2_Atto495_MEOH_10X_500ms_flds001.nd2'\n",
    "test_nd2_fpath = os.path.join(test_tentagel_folder,test_nd2_fname)\n",
    "t = ImageStack(test_nd2_fpath)"
   ]
  },
  {
   "cell_type": "code",
   "execution_count": 5,
   "metadata": {},
   "outputs": [],
   "source": [
    "class Beads(ImageStack):\n",
    "    \"\"\"\n",
    "    The Beads class actually tracks the intensity of the beads across the different channels. \n",
    "    TODO: Ensures that it is done across channels and the ImageStack inherited is of the form\n",
    "    Summarizing a dataframe to obtain values\n",
    "    \"\"\"\n",
    "    def __init__(self,bead_nd2_file,mono_channel=0):\n",
    "        super().__init__(bead_nd2_file)\n",
    "        self.col_headers = self.make_column_header()\n",
    "        self.mono_channel = mono_channel\n",
    "    \n",
    "    def make_column_header(self):\n",
    "        channels = self.channels()\n",
    "        channel_dependent_headers = list()\n",
    "        col_headers = [\"Filename\", \"Frame ID\", \"Mask ID\", \"Mask-X0\",\"Mask-Y0\",\"oRadius (pix)\",\n",
    "                       \"Circular Area (pix^2)\", \"Ring Area (pix^2)\", \"inner Circle Area (pix^2)\"]\n",
    "        \n",
    "        for channel_name in channels:\n",
    "            _header_list = [channel_name + '---' + _head_ \n",
    "                            for _head_ in ('oCircle Intensity', 'oCircle Mean Intensity', 'oCircle Median Intensity',\n",
    "                                           'iCircle Intensity', 'iCircle Mean Intensity', 'iCircle Median Intensity',\n",
    "                                           'ring Intensity', 'ring Mean Intensity', 'ring Median Intensity')]\n",
    "            channel_dependent_headers.extend(_header_list)\n",
    "        col_headers.extend(channel_dependent_headers)\n",
    "        \n",
    "        return col_headers\n",
    "    \n",
    "    def make_dataframe(self,row_values):\n",
    "        self.allbeads_df = pd.DataFrame(row_values,columns=self.col_headers)\n",
    "        display(self.allbeads_df)\n",
    "        return True\n",
    "    \n",
    "    def preprocess_image(self,img,smoothing='median'):\n",
    "        mod_img1 = img.astype(np.float32)\n",
    "        mod_img2 = (mod_img1/256).astype('uint8') #Need an 8-bit, single-channel, grayscale input\n",
    "        # Blurring\n",
    "        if smoothing == 'median': cv2.medianBlur(mod_img2,5)\n",
    "        if smoothing == 'gaussian': cv2.GaussianBlue(mod_img2,(5,5))\n",
    "        return mod_img2\n",
    "\n",
    "    def filter_beads(self,circles, min_width=100,max_width=170):\n",
    "        all_circles = list()\n",
    "        for circle in circles:\n",
    "            r = int(circle[2])\n",
    "            if r in range(min_width,max_width):\n",
    "                all_circles.append(circle)\n",
    "        return all_circles\n",
    "\n",
    "    def find_beads(self,*args, **kwargs):\n",
    "        \"\"\"\n",
    "        hough_params = dict(dp=1.5,minDist=250,param1=45,param2=45,minRadius=100,maxRadius=700)\n",
    "        circles = t.find_beads(mono_image,**hough_params)\n",
    "        \"\"\"\n",
    "        processed_img = self.preprocess_image(self.get_mono_image())\n",
    "        circles = (cv2.HoughCircles(processed_img,cv2.HOUGH_GRADIENT,\n",
    "                                    dp = kwargs['dp'],\n",
    "                                    minDist = kwargs['minDist'],\n",
    "                                    param1 = kwargs['param1'],\n",
    "                                    param2 = kwargs['param2'],\n",
    "                                    minRadius = kwargs['minRadius'],\n",
    "                                    maxRadius = kwargs['maxRadius']))\n",
    "        circles = self.filter_beads(circles[0]) #Filter the beads across the expected width (and not too small)\n",
    "        # A number of circles with each circle in form = (x,y,radius)\n",
    "        return circles \n",
    "    "
   ]
  },
  {
   "cell_type": "code",
   "execution_count": 10,
   "metadata": {},
   "outputs": [],
   "source": [
    "class Bead(ImageStack):\n",
    "    \"\"\"\n",
    "    Main purpose is to extract intensity with varying statistics for a single bead \n",
    "    \"\"\"\n",
    "    def __init__(self,bead_nd2_fpath, circle, mask_id, mono_channel=0):\n",
    "        super().__init__(bead_nd2_fpath)\n",
    "        self.circle = list(map(int,circle)) #circle = x,y,r\n",
    "        self.mono_image = self.nd2image.get_frame(mono_channel)\n",
    "        self.image_shape = self.mono_image.shape\n",
    "        self.ring_thickness = int(30)\n",
    "        self.mask_id = mask_id\n",
    "\n",
    "    def get_areas(self):\n",
    "        x0,y0,r0 = self.circle\n",
    "        delta = self.ring_thickness/2\n",
    "        outer_circle_area = np.pi * float(r0+delta) * float(r0+delta)\n",
    "        inner_circle_area = np.pi * float(r0-delta) * float(r0-delta)\n",
    "        ring_area = 2 * np.pi * float(r0)*self.ring_thickness\n",
    "        return [outer_circle_area, ring_area, inner_circle_area]\n",
    "        \n",
    "    def draw_mask(self,**kwargs):\n",
    "        empty_img_mask = np.zeros(self.image_shape,dtype=np.uint16)\n",
    "        cv2.circle(empty_img_mask,kwargs['center'],kwargs['radius'],kwargs['color'],kwargs['thickness'])\n",
    "        return empty_img_mask\n",
    "     \n",
    "    def get_values_under_mask(self,mask_array,idx):\n",
    "        raw_image = self.nd2image.get_frame(idx)\n",
    "        _image_masked_ = np.multiply(raw_image,mask_array)\n",
    "        sum_bead = np.sum(_image_masked_)\n",
    "        mean_bead = np.nanmean(np.where(_image_masked_!=0, _image_masked_, np.nan))\n",
    "        median_bead = np.nanmedian(np.where(_image_masked_!=0, _image_masked_, np.nan))\n",
    "        return sum_bead,mean_bead,median_bead\n",
    "        \n",
    "    def process_circle(self):\n",
    "        # Initialize\n",
    "        row_values = list()\n",
    "        \n",
    "        x0,y0,r0 = self.circle\n",
    "        delta = self.ring_thickness/2\n",
    "        outer_circle_params = dict(center=(x0,y0),radius=int(r0+delta),color=1,thickness=-1)\n",
    "        inner_circle_params = dict(center=(x0,y0),radius=int(r0-delta),color=1,thickness=-1)\n",
    "        ring_params = dict(center=(x0,y0),radius=int(r0),color=1,thickness=self.ring_thickness)\n",
    "        \n",
    "        # Create bead mask\n",
    "        outer_circ_mask = self.draw_mask(**outer_circle_params)\n",
    "        inner_circ_mask = self.draw_mask(**inner_circle_params)\n",
    "        ring_mask = self.draw_mask(**ring_params)\n",
    "        \n",
    "        # Calculate intensity for each channel\n",
    "        # Looping through the different masks modes\n",
    "        for circ_mask in (outer_circ_mask,inner_circ_mask, ring_mask):\n",
    "            # Looping to extract -- Sum, Mean, Median, Ratio\n",
    "            for  idx,channel_name in enumerate(self.channels()):\n",
    "                sum_bead, mean_bead, median_bead = self.get_values_under_mask(circ_mask,idx)\n",
    "                row_values.extend([sum_bead,mean_bead,median_bead])\n",
    "        return row_values\n",
    "\n",
    "    def compile_row(self,row_values):\n",
    "        complete_row_list = list()\n",
    "        basic_info_row_values = [self.fname(),self.frames()[0],self.mask_id,self.circle[0],self.circle[1],self.circle[2]] \n",
    "        complete_row_list.extend(basic_info_row_values)\n",
    "        \n",
    "        area_row_values = self.get_areas()\n",
    "        complete_row_list.extend(area_row_values)\n",
    "        complete_row_list.extend(row_values)\n",
    "        \n",
    "        return list(complete_row_list)"
   ]
  },
  {
   "cell_type": "code",
   "execution_count": 13,
   "metadata": {},
   "outputs": [
    {
     "name": "stderr",
     "output_type": "stream",
     "text": [
      "\r",
      "number of beads:   0%|          | 0/26 [00:00<?, ?it/s]"
     ]
    },
    {
     "name": "stdout",
     "output_type": "stream",
     "text": [
      "26\n"
     ]
    },
    {
     "name": "stderr",
     "output_type": "stream",
     "text": [
      "number of beads:   0%|          | 0/26 [00:26<?, ?it/s]\n"
     ]
    },
    {
     "ename": "KeyboardInterrupt",
     "evalue": "",
     "output_type": "error",
     "traceback": [
      "\u001b[0;31m---------------------------------------------------------------------------\u001b[0m",
      "\u001b[0;31mKeyboardInterrupt\u001b[0m                         Traceback (most recent call last)",
      "\u001b[0;32m<ipython-input-13-8c83a233740f>\u001b[0m in \u001b[0;36m<module>\u001b[0;34m\u001b[0m\n\u001b[1;32m     15\u001b[0m \u001b[0;34m\u001b[0m\u001b[0m\n\u001b[1;32m     16\u001b[0m \u001b[0;32mfor\u001b[0m \u001b[0mi\u001b[0m \u001b[0;32min\u001b[0m \u001b[0mtrange\u001b[0m\u001b[0;34m(\u001b[0m\u001b[0mlen\u001b[0m\u001b[0;34m(\u001b[0m\u001b[0mcircles\u001b[0m\u001b[0;34m)\u001b[0m\u001b[0;34m,\u001b[0m\u001b[0mdesc\u001b[0m\u001b[0;34m=\u001b[0m\u001b[0;34m\"number of beads\"\u001b[0m\u001b[0;34m)\u001b[0m\u001b[0;34m:\u001b[0m\u001b[0;34m\u001b[0m\u001b[0;34m\u001b[0m\u001b[0m\n\u001b[0;32m---> 17\u001b[0;31m     \u001b[0mprocess_beads\u001b[0m\u001b[0;34m(\u001b[0m\u001b[0mcircles\u001b[0m\u001b[0;34m)\u001b[0m\u001b[0;34m\u001b[0m\u001b[0;34m\u001b[0m\u001b[0m\n\u001b[0m\u001b[1;32m     18\u001b[0m \u001b[0;34m\u001b[0m\u001b[0m\n\u001b[1;32m     19\u001b[0m \u001b[0mbeadimage\u001b[0m\u001b[0;34m.\u001b[0m\u001b[0mmake_dataframe\u001b[0m\u001b[0;34m(\u001b[0m\u001b[0mcomplete_row_list\u001b[0m\u001b[0;34m)\u001b[0m\u001b[0;34m\u001b[0m\u001b[0;34m\u001b[0m\u001b[0m\n",
      "\u001b[0;32m<ipython-input-13-8c83a233740f>\u001b[0m in \u001b[0;36mprocess_beads\u001b[0;34m(circles)\u001b[0m\n\u001b[1;32m     10\u001b[0m     \u001b[0;32mfor\u001b[0m \u001b[0mmask_id\u001b[0m\u001b[0;34m,\u001b[0m \u001b[0mcircle\u001b[0m \u001b[0;32min\u001b[0m \u001b[0menumerate\u001b[0m\u001b[0;34m(\u001b[0m\u001b[0mcircles\u001b[0m\u001b[0;34m)\u001b[0m\u001b[0;34m:\u001b[0m\u001b[0;34m\u001b[0m\u001b[0;34m\u001b[0m\u001b[0m\n\u001b[1;32m     11\u001b[0m         \u001b[0mbead\u001b[0m \u001b[0;34m=\u001b[0m \u001b[0mBead\u001b[0m\u001b[0;34m(\u001b[0m\u001b[0mtest_nd2_fpath\u001b[0m\u001b[0;34m,\u001b[0m\u001b[0mcircle\u001b[0m\u001b[0;34m,\u001b[0m\u001b[0mmask_id\u001b[0m\u001b[0;34m)\u001b[0m\u001b[0;34m\u001b[0m\u001b[0;34m\u001b[0m\u001b[0m\n\u001b[0;32m---> 12\u001b[0;31m         \u001b[0mbead_values\u001b[0m \u001b[0;34m=\u001b[0m \u001b[0mbead\u001b[0m\u001b[0;34m.\u001b[0m\u001b[0mprocess_circle\u001b[0m\u001b[0;34m(\u001b[0m\u001b[0;34m)\u001b[0m\u001b[0;34m\u001b[0m\u001b[0;34m\u001b[0m\u001b[0m\n\u001b[0m\u001b[1;32m     13\u001b[0m         \u001b[0mrow_list\u001b[0m \u001b[0;34m=\u001b[0m \u001b[0mbead\u001b[0m\u001b[0;34m.\u001b[0m\u001b[0mcompile_row\u001b[0m\u001b[0;34m(\u001b[0m\u001b[0mbead_values\u001b[0m\u001b[0;34m)\u001b[0m\u001b[0;34m\u001b[0m\u001b[0;34m\u001b[0m\u001b[0m\n\u001b[1;32m     14\u001b[0m         \u001b[0mcomplete_row_list\u001b[0m\u001b[0;34m.\u001b[0m\u001b[0mappend\u001b[0m\u001b[0;34m(\u001b[0m\u001b[0mrow_list\u001b[0m\u001b[0;34m)\u001b[0m\u001b[0;34m\u001b[0m\u001b[0;34m\u001b[0m\u001b[0m\n",
      "\u001b[0;32m<ipython-input-10-990d5065cbe0>\u001b[0m in \u001b[0;36mprocess_circle\u001b[0;34m(self)\u001b[0m\n\u001b[1;32m     52\u001b[0m             \u001b[0;31m# Looping to extract -- Sum, Mean, Median, Ratio\u001b[0m\u001b[0;34m\u001b[0m\u001b[0;34m\u001b[0m\u001b[0;34m\u001b[0m\u001b[0m\n\u001b[1;32m     53\u001b[0m             \u001b[0;32mfor\u001b[0m  \u001b[0midx\u001b[0m\u001b[0;34m,\u001b[0m\u001b[0mchannel_name\u001b[0m \u001b[0;32min\u001b[0m \u001b[0menumerate\u001b[0m\u001b[0;34m(\u001b[0m\u001b[0mself\u001b[0m\u001b[0;34m.\u001b[0m\u001b[0mchannels\u001b[0m\u001b[0;34m(\u001b[0m\u001b[0;34m)\u001b[0m\u001b[0;34m)\u001b[0m\u001b[0;34m:\u001b[0m\u001b[0;34m\u001b[0m\u001b[0;34m\u001b[0m\u001b[0m\n\u001b[0;32m---> 54\u001b[0;31m                 \u001b[0msum_bead\u001b[0m\u001b[0;34m,\u001b[0m \u001b[0mmean_bead\u001b[0m\u001b[0;34m,\u001b[0m \u001b[0mmedian_bead\u001b[0m \u001b[0;34m=\u001b[0m \u001b[0mself\u001b[0m\u001b[0;34m.\u001b[0m\u001b[0mget_values_under_mask\u001b[0m\u001b[0;34m(\u001b[0m\u001b[0mcirc_mask\u001b[0m\u001b[0;34m,\u001b[0m\u001b[0midx\u001b[0m\u001b[0;34m)\u001b[0m\u001b[0;34m\u001b[0m\u001b[0;34m\u001b[0m\u001b[0m\n\u001b[0m\u001b[1;32m     55\u001b[0m                 \u001b[0mrow_values\u001b[0m\u001b[0;34m.\u001b[0m\u001b[0mextend\u001b[0m\u001b[0;34m(\u001b[0m\u001b[0;34m[\u001b[0m\u001b[0msum_bead\u001b[0m\u001b[0;34m,\u001b[0m\u001b[0mmean_bead\u001b[0m\u001b[0;34m,\u001b[0m\u001b[0mmedian_bead\u001b[0m\u001b[0;34m]\u001b[0m\u001b[0;34m)\u001b[0m\u001b[0;34m\u001b[0m\u001b[0;34m\u001b[0m\u001b[0m\n\u001b[1;32m     56\u001b[0m         \u001b[0;32mreturn\u001b[0m \u001b[0mrow_values\u001b[0m\u001b[0;34m\u001b[0m\u001b[0;34m\u001b[0m\u001b[0m\n",
      "\u001b[0;32m<ipython-input-10-990d5065cbe0>\u001b[0m in \u001b[0;36mget_values_under_mask\u001b[0;34m(self, mask_array, idx)\u001b[0m\n\u001b[1;32m     28\u001b[0m         \u001b[0m_image_masked_\u001b[0m \u001b[0;34m=\u001b[0m \u001b[0mnp\u001b[0m\u001b[0;34m.\u001b[0m\u001b[0mmultiply\u001b[0m\u001b[0;34m(\u001b[0m\u001b[0mraw_image\u001b[0m\u001b[0;34m,\u001b[0m\u001b[0mmask_array\u001b[0m\u001b[0;34m)\u001b[0m\u001b[0;34m\u001b[0m\u001b[0;34m\u001b[0m\u001b[0m\n\u001b[1;32m     29\u001b[0m         \u001b[0msum_bead\u001b[0m \u001b[0;34m=\u001b[0m \u001b[0mnp\u001b[0m\u001b[0;34m.\u001b[0m\u001b[0msum\u001b[0m\u001b[0;34m(\u001b[0m\u001b[0m_image_masked_\u001b[0m\u001b[0;34m)\u001b[0m\u001b[0;34m\u001b[0m\u001b[0;34m\u001b[0m\u001b[0m\n\u001b[0;32m---> 30\u001b[0;31m         \u001b[0mmean_bead\u001b[0m \u001b[0;34m=\u001b[0m \u001b[0mnp\u001b[0m\u001b[0;34m.\u001b[0m\u001b[0mnanmean\u001b[0m\u001b[0;34m(\u001b[0m\u001b[0mnp\u001b[0m\u001b[0;34m.\u001b[0m\u001b[0mwhere\u001b[0m\u001b[0;34m(\u001b[0m\u001b[0m_image_masked_\u001b[0m\u001b[0;34m!=\u001b[0m\u001b[0;36m0\u001b[0m\u001b[0;34m,\u001b[0m \u001b[0m_image_masked_\u001b[0m\u001b[0;34m,\u001b[0m \u001b[0mnp\u001b[0m\u001b[0;34m.\u001b[0m\u001b[0mnan\u001b[0m\u001b[0;34m)\u001b[0m\u001b[0;34m)\u001b[0m\u001b[0;34m\u001b[0m\u001b[0;34m\u001b[0m\u001b[0m\n\u001b[0m\u001b[1;32m     31\u001b[0m         \u001b[0mmedian_bead\u001b[0m \u001b[0;34m=\u001b[0m \u001b[0mnp\u001b[0m\u001b[0;34m.\u001b[0m\u001b[0mnanmedian\u001b[0m\u001b[0;34m(\u001b[0m\u001b[0mnp\u001b[0m\u001b[0;34m.\u001b[0m\u001b[0mwhere\u001b[0m\u001b[0;34m(\u001b[0m\u001b[0m_image_masked_\u001b[0m\u001b[0;34m!=\u001b[0m\u001b[0;36m0\u001b[0m\u001b[0;34m,\u001b[0m \u001b[0m_image_masked_\u001b[0m\u001b[0;34m,\u001b[0m \u001b[0mnp\u001b[0m\u001b[0;34m.\u001b[0m\u001b[0mnan\u001b[0m\u001b[0;34m)\u001b[0m\u001b[0;34m)\u001b[0m\u001b[0;34m\u001b[0m\u001b[0;34m\u001b[0m\u001b[0m\n\u001b[1;32m     32\u001b[0m         \u001b[0;32mreturn\u001b[0m \u001b[0msum_bead\u001b[0m\u001b[0;34m,\u001b[0m\u001b[0mmean_bead\u001b[0m\u001b[0;34m,\u001b[0m\u001b[0mmedian_bead\u001b[0m\u001b[0;34m\u001b[0m\u001b[0;34m\u001b[0m\u001b[0m\n",
      "\u001b[0;32m<__array_function__ internals>\u001b[0m in \u001b[0;36mnanmean\u001b[0;34m(*args, **kwargs)\u001b[0m\n",
      "\u001b[0;32m/home2/software_projects/beadAnalysis/env/venv_beads/lib/python3.8/site-packages/numpy/lib/nanfunctions.py\u001b[0m in \u001b[0;36mnanmean\u001b[0;34m(a, axis, dtype, out, keepdims)\u001b[0m\n\u001b[1;32m    935\u001b[0m \u001b[0;34m\u001b[0m\u001b[0m\n\u001b[1;32m    936\u001b[0m     \"\"\"\n\u001b[0;32m--> 937\u001b[0;31m     \u001b[0marr\u001b[0m\u001b[0;34m,\u001b[0m \u001b[0mmask\u001b[0m \u001b[0;34m=\u001b[0m \u001b[0m_replace_nan\u001b[0m\u001b[0;34m(\u001b[0m\u001b[0ma\u001b[0m\u001b[0;34m,\u001b[0m \u001b[0;36m0\u001b[0m\u001b[0;34m)\u001b[0m\u001b[0;34m\u001b[0m\u001b[0;34m\u001b[0m\u001b[0m\n\u001b[0m\u001b[1;32m    938\u001b[0m     \u001b[0;32mif\u001b[0m \u001b[0mmask\u001b[0m \u001b[0;32mis\u001b[0m \u001b[0;32mNone\u001b[0m\u001b[0;34m:\u001b[0m\u001b[0;34m\u001b[0m\u001b[0;34m\u001b[0m\u001b[0m\n\u001b[1;32m    939\u001b[0m         \u001b[0;32mreturn\u001b[0m \u001b[0mnp\u001b[0m\u001b[0;34m.\u001b[0m\u001b[0mmean\u001b[0m\u001b[0;34m(\u001b[0m\u001b[0marr\u001b[0m\u001b[0;34m,\u001b[0m \u001b[0maxis\u001b[0m\u001b[0;34m=\u001b[0m\u001b[0maxis\u001b[0m\u001b[0;34m,\u001b[0m \u001b[0mdtype\u001b[0m\u001b[0;34m=\u001b[0m\u001b[0mdtype\u001b[0m\u001b[0;34m,\u001b[0m \u001b[0mout\u001b[0m\u001b[0;34m=\u001b[0m\u001b[0mout\u001b[0m\u001b[0;34m,\u001b[0m \u001b[0mkeepdims\u001b[0m\u001b[0;34m=\u001b[0m\u001b[0mkeepdims\u001b[0m\u001b[0;34m)\u001b[0m\u001b[0;34m\u001b[0m\u001b[0;34m\u001b[0m\u001b[0m\n",
      "\u001b[0;32m/home2/software_projects/beadAnalysis/env/venv_beads/lib/python3.8/site-packages/numpy/lib/nanfunctions.py\u001b[0m in \u001b[0;36m_replace_nan\u001b[0;34m(a, val)\u001b[0m\n\u001b[1;32m    106\u001b[0m     \u001b[0;32mif\u001b[0m \u001b[0mmask\u001b[0m \u001b[0;32mis\u001b[0m \u001b[0;32mnot\u001b[0m \u001b[0;32mNone\u001b[0m\u001b[0;34m:\u001b[0m\u001b[0;34m\u001b[0m\u001b[0;34m\u001b[0m\u001b[0m\n\u001b[1;32m    107\u001b[0m         \u001b[0ma\u001b[0m \u001b[0;34m=\u001b[0m \u001b[0mnp\u001b[0m\u001b[0;34m.\u001b[0m\u001b[0marray\u001b[0m\u001b[0;34m(\u001b[0m\u001b[0ma\u001b[0m\u001b[0;34m,\u001b[0m \u001b[0msubok\u001b[0m\u001b[0;34m=\u001b[0m\u001b[0;32mTrue\u001b[0m\u001b[0;34m,\u001b[0m \u001b[0mcopy\u001b[0m\u001b[0;34m=\u001b[0m\u001b[0;32mTrue\u001b[0m\u001b[0;34m)\u001b[0m\u001b[0;34m\u001b[0m\u001b[0;34m\u001b[0m\u001b[0m\n\u001b[0;32m--> 108\u001b[0;31m         \u001b[0mnp\u001b[0m\u001b[0;34m.\u001b[0m\u001b[0mcopyto\u001b[0m\u001b[0;34m(\u001b[0m\u001b[0ma\u001b[0m\u001b[0;34m,\u001b[0m \u001b[0mval\u001b[0m\u001b[0;34m,\u001b[0m \u001b[0mwhere\u001b[0m\u001b[0;34m=\u001b[0m\u001b[0mmask\u001b[0m\u001b[0;34m)\u001b[0m\u001b[0;34m\u001b[0m\u001b[0;34m\u001b[0m\u001b[0m\n\u001b[0m\u001b[1;32m    109\u001b[0m \u001b[0;34m\u001b[0m\u001b[0m\n\u001b[1;32m    110\u001b[0m     \u001b[0;32mreturn\u001b[0m \u001b[0ma\u001b[0m\u001b[0;34m,\u001b[0m \u001b[0mmask\u001b[0m\u001b[0;34m\u001b[0m\u001b[0;34m\u001b[0m\u001b[0m\n",
      "\u001b[0;32m<__array_function__ internals>\u001b[0m in \u001b[0;36mcopyto\u001b[0;34m(*args, **kwargs)\u001b[0m\n",
      "\u001b[0;31mKeyboardInterrupt\u001b[0m: "
     ]
    }
   ],
   "source": [
    "hough_params = dict(dp=1.5,minDist=250,param1=45,param2=45,minRadius=100,maxRadius=700)\n",
    "beadimage = Beads(test_nd2_fpath)\n",
    "circles = beadimage.find_beads(**hough_params)\n",
    "complete_row_list = list()\n",
    "\n",
    "from tqdm import trange \n",
    "\n",
    "def process_beads(circles):\n",
    "    print (len(circles))\n",
    "    for mask_id, circle in enumerate(circles):\n",
    "        bead = Bead(test_nd2_fpath,circle,mask_id)\n",
    "        bead_values = bead.process_circle()\n",
    "        row_list = bead.compile_row(bead_values)\n",
    "        complete_row_list.append(row_list)\n",
    "\n",
    "for i in trange(len(circles),desc=\"number of beads\"):\n",
    "    process_beads(circles)\n",
    "    \n",
    "beadimage.make_dataframe(complete_row_list)\n",
    "\n",
    "\n"
   ]
  },
  {
   "cell_type": "code",
   "execution_count": null,
   "metadata": {},
   "outputs": [],
   "source": [
    "from tqdm.notebook import trange, tqdm\n",
    "from time import sleep\n",
    "\n",
    "for i in trange(3, desc='1st loop'):\n",
    "    for j in tqdm(range(100), desc='2nd loop'):\n",
    "        sleep(0.01)"
   ]
  },
  {
   "cell_type": "code",
   "execution_count": 789,
   "metadata": {},
   "outputs": [
    {
     "data": {
      "text/plain": [
       "{'height': 2044,\n",
       " 'width': 2048,\n",
       " 'date': datetime.datetime(2020, 10, 16, 21, 53, 54),\n",
       " 'fields_of_view': [0],\n",
       " 'frames': [0],\n",
       " 'z_levels': range(0, 1),\n",
       " 'z_coordinates': [2490.75],\n",
       " 'total_images_per_channel': 1,\n",
       " 'channels': ['Mono', 'DAPI', 'FITC', 'TRITC', 'Cy5'],\n",
       " 'pixel_microns': 0.637366556218459,\n",
       " 'num_frames': 1,\n",
       " 'experiment': {'description': 'ND Acquisition',\n",
       "  'loops': [{'start': 0,\n",
       "    'duration': 0,\n",
       "    'stimulation': False,\n",
       "    'sampling_interval': 0.0}]},\n",
       " 'events': []}"
      ]
     },
     "execution_count": 789,
     "metadata": {},
     "output_type": "execute_result"
    }
   ],
   "source": [
    "t.metadata"
   ]
  },
  {
   "cell_type": "code",
   "execution_count": null,
   "metadata": {},
   "outputs": [],
   "source": []
  },
  {
   "cell_type": "code",
   "execution_count": 318,
   "metadata": {},
   "outputs": [
    {
     "data": {
      "text/plain": [
       "dict"
      ]
     },
     "execution_count": 318,
     "metadata": {},
     "output_type": "execute_result"
    }
   ],
   "source": [
    "type(a)"
   ]
  },
  {
   "cell_type": "code",
   "execution_count": null,
   "metadata": {},
   "outputs": [],
   "source": []
  }
 ],
 "metadata": {
  "kernelspec": {
   "display_name": "venv_beads",
   "language": "python",
   "name": "venv_beads"
  },
  "language_info": {
   "codemirror_mode": {
    "name": "ipython",
    "version": 3
   },
   "file_extension": ".py",
   "mimetype": "text/x-python",
   "name": "python",
   "nbconvert_exporter": "python",
   "pygments_lexer": "ipython3",
   "version": "3.8.5"
  }
 },
 "nbformat": 4,
 "nbformat_minor": 4
}
