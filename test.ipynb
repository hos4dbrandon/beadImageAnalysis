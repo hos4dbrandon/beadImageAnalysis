{
 "cells": [
  {
   "cell_type": "code",
   "execution_count": 1,
   "metadata": {},
   "outputs": [
    {
     "ename": "SyntaxError",
     "evalue": "invalid syntax (bead_detection.py, line 66)",
     "output_type": "error",
     "traceback": [
      "Traceback \u001b[0;36m(most recent call last)\u001b[0m:\n",
      "  File \u001b[1;32m\"/home2/software_projects/beadAnalysis/env/venv_beads/lib/python3.8/site-packages/IPython/core/interactiveshell.py\"\u001b[0m, line \u001b[1;32m3418\u001b[0m, in \u001b[1;35mrun_code\u001b[0m\n    exec(code_obj, self.user_global_ns, self.user_ns)\n",
      "\u001b[0;36m  File \u001b[0;32m\"<ipython-input-1-70fd29a1b471>\"\u001b[0;36m, line \u001b[0;32m12\u001b[0;36m, in \u001b[0;35m<module>\u001b[0;36m\u001b[0m\n\u001b[0;31m    from bead_detection import Bead, Beads, analyze_beads_image #Explicitly calling them out\u001b[0m\n",
      "\u001b[0;36m  File \u001b[0;32m\"/home2/software_projects/beadAnalysis/modules/bead_detection.py\"\u001b[0;36m, line \u001b[0;32m66\u001b[0m\n\u001b[0;31m    assert (cond1 and cond2),\"Metadata {0}\".format(self.metadata)\u001b[0m\n\u001b[0m    ^\u001b[0m\n\u001b[0;31mSyntaxError\u001b[0m\u001b[0;31m:\u001b[0m invalid syntax\n"
     ]
    }
   ],
   "source": [
    "import sys\n",
    "import os\n",
    "import warnings\n",
    "from tqdm import tqdm_notebook,trange, tqdm \n",
    "warnings.simplefilter('ignore',DeprecationWarning)\n",
    "# This should be fine if tqdm not updated; it is the tqdm_notebook thats crying\n",
    "\n",
    "#### MY MODULES ####\n",
    "import site\n",
    "site.addsitedir('../modules/') #Looking for the module differently; I know there is something more elegant\n",
    "import mymodules\n",
    "from bead_detection import Bead, Beads, analyze_beads_image #Explicitly calling them out"
   ]
  },
  {
   "cell_type": "code",
   "execution_count": 22,
   "metadata": {},
   "outputs": [],
   "source": [
    "class Test_bead_detection(object):\n",
    "    \"\"\"\n",
    "    A very specific case to test the initial build; Will work on it to incorporate multiple unittests\n",
    "    TODO: A more larger scale test to ensure non NaNs etc in pandas\n",
    "    \"\"\"\n",
    "    def __init__(self):\n",
    "        self.test_image_folder = self.get_image_folder()\n",
    "        self.test_image_fpath = self.get_image()\n",
    "        assert (os.path.isfile(os.path.join(self.test_image_fpath)))\n",
    "        self.test_params = self.get_default_params()\n",
    "        self.export_folder_path = self.test_params['export_folder']\n",
    "\n",
    "    def get_image_folder(self):\n",
    "        #Hardcoding the folder structure to expect\n",
    "        image_folder = os.path.join(os.getcwd(),'test_images','dye_screen') \n",
    "        return image_folder\n",
    "    \n",
    "    def get_image(self):\n",
    "        #Hardcoding the file\n",
    "        image_file = '201015_TGNH2_Atto495_PITC_10X_500ms_flds016.nd2'\n",
    "        image_fpath = os.path.join(self.test_image_folder,image_file)\n",
    "        return image_fpath\n",
    "    \n",
    "    def get_default_params(self):\n",
    "        ##################### \n",
    "        ## Default parameters for the Test script  Hardcoded ###\n",
    "        hough_params = dict(dp=1.5,minDist=250,param1=45,param2=45,minRadius=100,maxRadius=700)\n",
    "        preprocessing_params = ('median',5) #Someday going or will need to make it better\n",
    "        save_status = 'both' #save_status = ['data','mask','both','None']\n",
    "        export_folder_path = os.path.join(self.test_image_folder,'test_data_export')\n",
    "        #Ensure that there is no export files/folders in the export directory and start clean \n",
    "        import shutil\n",
    "        if os.path.isdir(export_folder_path): shutil.rmtree(export_folder_path,ignore_errors=True)\n",
    "        # Export folder because it is test; Else should be sent as key:value in params in the argparse or a default\n",
    "        ####################\n",
    "        ## Parameters to be passed\n",
    "        params = dict(hough_params=hough_params, \n",
    "                      preprocessing_params=preprocessing_params, \n",
    "                      save_status=save_status,\n",
    "                      export_folder=export_folder_path)\n",
    "        return params\n",
    "    \n",
    "    def integrated_test(self):\n",
    "        '''A simple test (because I did it so many times) to check\n",
    "        that there are csv and png files in the export folder;\n",
    "        '''\n",
    "        all_png = mymodules.get_fpaths(self.export_folder_path,'.png')\n",
    "        all_csv = mymodules.get_fpaths(self.export_folder_path,'.csv')\n",
    "        return (len(all_png),len(all_csv))\n",
    "    \n",
    "    def test_nd2file(self):\n",
    "        status, test_data_frame = analyze_beads_image(self.test_image_fpath, **self.test_params)\n",
    "        return True, test_data_frame\n",
    "    \n",
    "    def test_nd2folder(self):\n",
    "        all_test_nd2_fpaths = mymodules.get_fpaths(self.test_image_folder,'nd2')\n",
    "        all_test_nd2_fpaths.sort()\n",
    "        \n",
    "        tqdm_descriptor = \"Processing folder : \"\n",
    "        tqdm_color_blue = '#0D4F8B'\n",
    "        \n",
    "        counter = 0\n",
    "        for counter in tqdm_notebook(range(len(all_test_nd2_fpaths)), \n",
    "                                     desc=tqdm_descriptor, colour=tqdm_color_blue, position=0):\n",
    "            nd2_fpath = all_test_nd2_fpaths[counter]\n",
    "            status, test_dataframe = self.test_nd2file() #Just keep shuttling kwargs around\n",
    "            counter+=1\n",
    "        print(\"Completed images in folder : {0}\".format(self.test_image_folder))\n",
    "        return True, test.test_image_folder\n",
    "    \n",
    "    "
   ]
  },
  {
   "cell_type": "code",
   "execution_count": 23,
   "metadata": {},
   "outputs": [],
   "source": [
    "def run_test(*args,**kwargs):\n",
    "    check_status = False\n",
    "    test = Test_bead_detection()\n",
    "    if args[0] == 'nd2file':\n",
    "        check_status, test_dataframe = test.test_nd2file()\n",
    "        file_count_test = test.integrated_test()\n",
    "        if (file_count_test) == (2,1):\n",
    "            check_status = True\n",
    "        else: check_status = False\n",
    "    else:\n",
    "        check_status, test_image_folder = test.test_nd2folder()\n",
    "        file_count_test = test.integrated_test()\n",
    "        if (file_count_test) == (34,17):\n",
    "            check_status = True\n",
    "        else: check_status = False\n",
    "    \n",
    "    return check_status"
   ]
  },
  {
   "cell_type": "code",
   "execution_count": 20,
   "metadata": {},
   "outputs": [
    {
     "data": {
      "application/vnd.jupyter.widget-view+json": {
       "model_id": "",
       "version_major": 2,
       "version_minor": 0
      },
      "text/plain": [
       "HBox(children=(HTML(value='Analyzing beads 201015_TGNH2_Atto495_PITC_10X_500ms_flds016.nd2: '), FloatProgress(…"
      ]
     },
     "metadata": {},
     "output_type": "display_data"
    },
    {
     "name": "stdout",
     "output_type": "stream",
     "text": [
      "SUCCESS!! \n"
     ]
    }
   ],
   "source": [
    "if run_test('nd2file'):\n",
    "    print(\"SUCCESS!! \")"
   ]
  },
  {
   "cell_type": "code",
   "execution_count": 24,
   "metadata": {},
   "outputs": [
    {
     "data": {
      "application/vnd.jupyter.widget-view+json": {
       "model_id": "3c7a724c310745d4ae29db1c2ad2e889",
       "version_major": 2,
       "version_minor": 0
      },
      "text/plain": [
       "HBox(children=(HTML(value='Processing folder : '), FloatProgress(value=0.0, max=17.0), HTML(value='')))"
      ]
     },
     "metadata": {},
     "output_type": "display_data"
    },
    {
     "data": {
      "application/vnd.jupyter.widget-view+json": {
       "model_id": "",
       "version_major": 2,
       "version_minor": 0
      },
      "text/plain": [
       "HBox(children=(HTML(value='Analyzing beads 201015_TGNH2_Atto495_PITC_10X_500ms_flds016.nd2: '), FloatProgress(…"
      ]
     },
     "metadata": {},
     "output_type": "display_data"
    },
    {
     "data": {
      "application/vnd.jupyter.widget-view+json": {
       "model_id": "",
       "version_major": 2,
       "version_minor": 0
      },
      "text/plain": [
       "HBox(children=(HTML(value='Analyzing beads 201015_TGNH2_Atto495_PITC_10X_500ms_flds016.nd2: '), FloatProgress(…"
      ]
     },
     "metadata": {},
     "output_type": "display_data"
    },
    {
     "data": {
      "application/vnd.jupyter.widget-view+json": {
       "model_id": "",
       "version_major": 2,
       "version_minor": 0
      },
      "text/plain": [
       "HBox(children=(HTML(value='Analyzing beads 201015_TGNH2_Atto495_PITC_10X_500ms_flds016.nd2: '), FloatProgress(…"
      ]
     },
     "metadata": {},
     "output_type": "display_data"
    },
    {
     "data": {
      "application/vnd.jupyter.widget-view+json": {
       "model_id": "",
       "version_major": 2,
       "version_minor": 0
      },
      "text/plain": [
       "HBox(children=(HTML(value='Analyzing beads 201015_TGNH2_Atto495_PITC_10X_500ms_flds016.nd2: '), FloatProgress(…"
      ]
     },
     "metadata": {},
     "output_type": "display_data"
    },
    {
     "data": {
      "application/vnd.jupyter.widget-view+json": {
       "model_id": "",
       "version_major": 2,
       "version_minor": 0
      },
      "text/plain": [
       "HBox(children=(HTML(value='Analyzing beads 201015_TGNH2_Atto495_PITC_10X_500ms_flds016.nd2: '), FloatProgress(…"
      ]
     },
     "metadata": {},
     "output_type": "display_data"
    },
    {
     "data": {
      "application/vnd.jupyter.widget-view+json": {
       "model_id": "",
       "version_major": 2,
       "version_minor": 0
      },
      "text/plain": [
       "HBox(children=(HTML(value='Analyzing beads 201015_TGNH2_Atto495_PITC_10X_500ms_flds016.nd2: '), FloatProgress(…"
      ]
     },
     "metadata": {},
     "output_type": "display_data"
    },
    {
     "data": {
      "application/vnd.jupyter.widget-view+json": {
       "model_id": "",
       "version_major": 2,
       "version_minor": 0
      },
      "text/plain": [
       "HBox(children=(HTML(value='Analyzing beads 201015_TGNH2_Atto495_PITC_10X_500ms_flds016.nd2: '), FloatProgress(…"
      ]
     },
     "metadata": {},
     "output_type": "display_data"
    },
    {
     "data": {
      "application/vnd.jupyter.widget-view+json": {
       "model_id": "",
       "version_major": 2,
       "version_minor": 0
      },
      "text/plain": [
       "HBox(children=(HTML(value='Analyzing beads 201015_TGNH2_Atto495_PITC_10X_500ms_flds016.nd2: '), FloatProgress(…"
      ]
     },
     "metadata": {},
     "output_type": "display_data"
    },
    {
     "data": {
      "application/vnd.jupyter.widget-view+json": {
       "model_id": "",
       "version_major": 2,
       "version_minor": 0
      },
      "text/plain": [
       "HBox(children=(HTML(value='Analyzing beads 201015_TGNH2_Atto495_PITC_10X_500ms_flds016.nd2: '), FloatProgress(…"
      ]
     },
     "metadata": {},
     "output_type": "display_data"
    },
    {
     "data": {
      "application/vnd.jupyter.widget-view+json": {
       "model_id": "",
       "version_major": 2,
       "version_minor": 0
      },
      "text/plain": [
       "HBox(children=(HTML(value='Analyzing beads 201015_TGNH2_Atto495_PITC_10X_500ms_flds016.nd2: '), FloatProgress(…"
      ]
     },
     "metadata": {},
     "output_type": "display_data"
    },
    {
     "data": {
      "application/vnd.jupyter.widget-view+json": {
       "model_id": "",
       "version_major": 2,
       "version_minor": 0
      },
      "text/plain": [
       "HBox(children=(HTML(value='Analyzing beads 201015_TGNH2_Atto495_PITC_10X_500ms_flds016.nd2: '), FloatProgress(…"
      ]
     },
     "metadata": {},
     "output_type": "display_data"
    },
    {
     "data": {
      "application/vnd.jupyter.widget-view+json": {
       "model_id": "",
       "version_major": 2,
       "version_minor": 0
      },
      "text/plain": [
       "HBox(children=(HTML(value='Analyzing beads 201015_TGNH2_Atto495_PITC_10X_500ms_flds016.nd2: '), FloatProgress(…"
      ]
     },
     "metadata": {},
     "output_type": "display_data"
    },
    {
     "data": {
      "application/vnd.jupyter.widget-view+json": {
       "model_id": "",
       "version_major": 2,
       "version_minor": 0
      },
      "text/plain": [
       "HBox(children=(HTML(value='Analyzing beads 201015_TGNH2_Atto495_PITC_10X_500ms_flds016.nd2: '), FloatProgress(…"
      ]
     },
     "metadata": {},
     "output_type": "display_data"
    },
    {
     "data": {
      "application/vnd.jupyter.widget-view+json": {
       "model_id": "",
       "version_major": 2,
       "version_minor": 0
      },
      "text/plain": [
       "HBox(children=(HTML(value='Analyzing beads 201015_TGNH2_Atto495_PITC_10X_500ms_flds016.nd2: '), FloatProgress(…"
      ]
     },
     "metadata": {},
     "output_type": "display_data"
    },
    {
     "data": {
      "application/vnd.jupyter.widget-view+json": {
       "model_id": "",
       "version_major": 2,
       "version_minor": 0
      },
      "text/plain": [
       "HBox(children=(HTML(value='Analyzing beads 201015_TGNH2_Atto495_PITC_10X_500ms_flds016.nd2: '), FloatProgress(…"
      ]
     },
     "metadata": {},
     "output_type": "display_data"
    },
    {
     "data": {
      "application/vnd.jupyter.widget-view+json": {
       "model_id": "",
       "version_major": 2,
       "version_minor": 0
      },
      "text/plain": [
       "HBox(children=(HTML(value='Analyzing beads 201015_TGNH2_Atto495_PITC_10X_500ms_flds016.nd2: '), FloatProgress(…"
      ]
     },
     "metadata": {},
     "output_type": "display_data"
    },
    {
     "data": {
      "application/vnd.jupyter.widget-view+json": {
       "model_id": "",
       "version_major": 2,
       "version_minor": 0
      },
      "text/plain": [
       "HBox(children=(HTML(value='Analyzing beads 201015_TGNH2_Atto495_PITC_10X_500ms_flds016.nd2: '), FloatProgress(…"
      ]
     },
     "metadata": {},
     "output_type": "display_data"
    },
    {
     "name": "stdout",
     "output_type": "stream",
     "text": [
      "\n",
      "Completed images in folder : /home2/software_projects/beadAnalysis/test/test_images/dye_screen\n"
     ]
    },
    {
     "ename": "NameError",
     "evalue": "name 'test' is not defined",
     "output_type": "error",
     "traceback": [
      "\u001b[0;31m---------------------------------------------------------------------------\u001b[0m",
      "\u001b[0;31mNameError\u001b[0m                                 Traceback (most recent call last)",
      "\u001b[0;32m<ipython-input-24-151abe7a31d7>\u001b[0m in \u001b[0;36m<module>\u001b[0;34m\u001b[0m\n\u001b[0;32m----> 1\u001b[0;31m \u001b[0;32mif\u001b[0m \u001b[0mrun_test\u001b[0m\u001b[0;34m(\u001b[0m\u001b[0;34m'nd2folder'\u001b[0m\u001b[0;34m)\u001b[0m\u001b[0;34m:\u001b[0m\u001b[0;34m\u001b[0m\u001b[0;34m\u001b[0m\u001b[0m\n\u001b[0m\u001b[1;32m      2\u001b[0m     \u001b[0mprint\u001b[0m\u001b[0;34m(\u001b[0m\u001b[0;34m\"SUCCESS!!\"\u001b[0m\u001b[0;34m)\u001b[0m\u001b[0;34m\u001b[0m\u001b[0;34m\u001b[0m\u001b[0m\n",
      "\u001b[0;32m<ipython-input-23-eeba4ed583e5>\u001b[0m in \u001b[0;36mrun_test\u001b[0;34m(*args, **kwargs)\u001b[0m\n\u001b[1;32m      9\u001b[0m         \u001b[0;32melse\u001b[0m\u001b[0;34m:\u001b[0m \u001b[0mcheck_status\u001b[0m \u001b[0;34m=\u001b[0m \u001b[0;32mFalse\u001b[0m\u001b[0;34m\u001b[0m\u001b[0;34m\u001b[0m\u001b[0m\n\u001b[1;32m     10\u001b[0m     \u001b[0;32melse\u001b[0m\u001b[0;34m:\u001b[0m\u001b[0;34m\u001b[0m\u001b[0;34m\u001b[0m\u001b[0m\n\u001b[0;32m---> 11\u001b[0;31m         \u001b[0mcheck_status\u001b[0m\u001b[0;34m,\u001b[0m \u001b[0mtest_image_folder\u001b[0m \u001b[0;34m=\u001b[0m \u001b[0mtest\u001b[0m\u001b[0;34m.\u001b[0m\u001b[0mtest_nd2folder\u001b[0m\u001b[0;34m(\u001b[0m\u001b[0;34m)\u001b[0m\u001b[0;34m\u001b[0m\u001b[0;34m\u001b[0m\u001b[0m\n\u001b[0m\u001b[1;32m     12\u001b[0m         \u001b[0mfile_count_test\u001b[0m \u001b[0;34m=\u001b[0m \u001b[0mtest\u001b[0m\u001b[0;34m.\u001b[0m\u001b[0mintegrated_test\u001b[0m\u001b[0;34m(\u001b[0m\u001b[0;34m)\u001b[0m\u001b[0;34m\u001b[0m\u001b[0;34m\u001b[0m\u001b[0m\n\u001b[1;32m     13\u001b[0m         \u001b[0;32mif\u001b[0m \u001b[0;34m(\u001b[0m\u001b[0mfile_count_test\u001b[0m\u001b[0;34m)\u001b[0m \u001b[0;34m==\u001b[0m \u001b[0;34m(\u001b[0m\u001b[0;36m34\u001b[0m\u001b[0;34m,\u001b[0m\u001b[0;36m17\u001b[0m\u001b[0;34m)\u001b[0m\u001b[0;34m:\u001b[0m\u001b[0;34m\u001b[0m\u001b[0;34m\u001b[0m\u001b[0m\n",
      "\u001b[0;32m<ipython-input-22-40a30d2bd113>\u001b[0m in \u001b[0;36mtest_nd2folder\u001b[0;34m(self)\u001b[0m\n\u001b[1;32m     67\u001b[0m             \u001b[0mcounter\u001b[0m\u001b[0;34m+=\u001b[0m\u001b[0;36m1\u001b[0m\u001b[0;34m\u001b[0m\u001b[0;34m\u001b[0m\u001b[0m\n\u001b[1;32m     68\u001b[0m         \u001b[0mprint\u001b[0m\u001b[0;34m(\u001b[0m\u001b[0;34m\"Completed images in folder : {0}\"\u001b[0m\u001b[0;34m.\u001b[0m\u001b[0mformat\u001b[0m\u001b[0;34m(\u001b[0m\u001b[0mself\u001b[0m\u001b[0;34m.\u001b[0m\u001b[0mtest_image_folder\u001b[0m\u001b[0;34m)\u001b[0m\u001b[0;34m)\u001b[0m\u001b[0;34m\u001b[0m\u001b[0;34m\u001b[0m\u001b[0m\n\u001b[0;32m---> 69\u001b[0;31m         \u001b[0;32mreturn\u001b[0m \u001b[0;32mTrue\u001b[0m\u001b[0;34m,\u001b[0m \u001b[0mtest\u001b[0m\u001b[0;34m.\u001b[0m\u001b[0mtest_image_folder\u001b[0m\u001b[0;34m\u001b[0m\u001b[0;34m\u001b[0m\u001b[0m\n\u001b[0m\u001b[1;32m     70\u001b[0m \u001b[0;34m\u001b[0m\u001b[0m\n\u001b[1;32m     71\u001b[0m \u001b[0;34m\u001b[0m\u001b[0m\n",
      "\u001b[0;31mNameError\u001b[0m: name 'test' is not defined"
     ]
    }
   ],
   "source": [
    "if run_test('nd2folder'):\n",
    "    print(\"SUCCESS!!\")"
   ]
  },
  {
   "cell_type": "code",
   "execution_count": null,
   "metadata": {},
   "outputs": [],
   "source": []
  }
 ],
 "metadata": {
  "kernelspec": {
   "display_name": "venv_beads",
   "language": "python",
   "name": "venv_beads"
  },
  "language_info": {
   "codemirror_mode": {
    "name": "ipython",
    "version": 3
   },
   "file_extension": ".py",
   "mimetype": "text/x-python",
   "name": "python",
   "nbconvert_exporter": "python",
   "pygments_lexer": "ipython3",
   "version": "3.8.5"
  }
 },
 "nbformat": 4,
 "nbformat_minor": 4
}
